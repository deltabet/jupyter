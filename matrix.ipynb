{
 "cells": [
  {
   "cell_type": "markdown",
   "metadata": {},
   "source": [
    "errors and times\n",
    "[223.8462499802631, 205.7562045063396, 193.4692893120491, 258.2023664598232, 248.0176858825571, 238.22153142911247, 301.7377619092731, 353.16755640819156, 352.44489365733443, 449.3441783904127, 426.89550037105437, 407.48684927289105]\n",
    "[[5.0129851533992102, 0.9011795888280254, 0.86170660961020873, 0.85032099348092538, 0.84401091548053009, 0.83917444069445868, 0.8344903620230929, 0.82937400845065679, 0.82368260490709999, 0.81760657022756855, 0.81149722622576026, 0.80568707931118366, 0.80039799046192006, 0.79573085314539982, 0.79169374462651876, 0.788239442610006, 0.78529659125683426, 0.78278931801640217, 0.78064704565678267, 0.77880822581456943], [0.81271754134313723, 0.81070750130293834, 0.80943601920785579, 0.80849739199463255, 0.80781095274796899, 0.80732819527425403, 0.80701020065360685, 0.80682672761014451, 0.80675335727322539, 0.80676974320300432, 0.80685892437463169, 0.80700702339708519, 0.80720294119963187, 0.8074379515377379, 0.80770524528408216, 0.80799949899100121, 0.808316512982865, 0.80865293071944577, 0.809006031039328, 0.80937357757737649], [0.95420653457271309, 0.99818463338428787, nan, nan, nan, nan, nan, nan, nan, nan, nan, nan, nan, nan, nan, nan, nan, nan, nan, nan], [2.7730379855268974, 0.86960984793426854, 0.84455928897890631, 0.83451648965372072, 0.82718637002934436, 0.82011335848051492, 0.81218828404252486, 0.80288502345521295, 0.79233662629674684, 0.7812861028344098, 0.7705979537249128, 0.7608080947394118, 0.75208234930397655, 0.74437686197940189, 0.73757205158175487, 0.73153860342323251, 0.72616110071825024, 0.7213429880461526, 0.71700504759835504, 0.71308231756345308], [0.74099892565284531, 0.73593591501900635, 0.73178081661316274, 0.72822369791722119, 0.72519013116166253, 0.72260154558661727, 0.72038288447177679, 0.7184707472049191, 0.71681368972060111, 0.71537095766038594, 0.71411060326748677, 0.71300751333399337, 0.71204167026908227, 0.71119677923983315, 0.71045926645613677, 0.70981758724676525, 0.70926176257767748, 0.70878306936914903, 0.70837382750693911, 0.70802724518514049], [0.87466161252402597, nan, nan, nan, nan, nan, nan, nan, nan, nan, nan, nan, nan, nan, nan, nan, nan, nan, nan, nan], [1.8229248874048654, 0.85851364279585884, 0.83754990000623153, 0.82671094347990326, 0.81755482031856896, 0.80812758311507971, 0.79759090712999892, 0.78581145135650343, 0.7733140602566223, 0.76090157612084974, 0.74917121696464584, 0.73837669990009913, 0.72854691215516099, 0.7196134342680055, 0.71147996073997699, 0.70405233500254849, 0.69724900947460944, 0.69100254262967353, 0.68525755751194428, 0.67996784898748541], [0.70188854878206541, 0.69460445252633241, 0.68843722583103917, 0.68311911801710357, 0.67857928001435708, 0.67470941414331409, 0.67140734385960121, 0.66858444775716164, 0.66616614614084058, 0.66409051275342246, 0.66230627735680392, 0.6607708711741036, 0.6594487612383344, 0.65831012315189774, 0.65732981080333275, 0.65648655423079638, 0.65576232239683807, 0.65514180434381464, 0.65461197828354623, 0.6541617495748937], [0.80009935934317222, nan, nan, nan, nan, nan, nan, nan, nan, nan, nan, nan, nan, nan, nan, nan, nan, nan, nan, nan], [1.1202458850562445, 0.85008958692858994, 0.82956165711684882, 0.81537423786630514, 0.80166509184759815, 0.78671963667839573, 0.77040604571681159, 0.75364124636899799, 0.73744373398044583, 0.72235907803181632, 0.70855574558793866, 0.6960336278262228, 0.68472430568065512, 0.67453003501265774, 0.66534250421159447, 0.65705364437162583, 0.64956171607843216, 0.64277419905908606, 0.63660866379353875, 0.63099252031790298], [0.65258395438632355, 0.64502385768709913, 0.63862261861286607, 0.63306089213620331, 0.62825185867111422, 0.62407612140998658, 0.62043153457770417, 0.61723440863732959, 0.61441715770974681, 0.61192506814633707, 0.60971350486007947, 0.60774569350667018, 0.6059909844623439, 0.60442351194058341, 0.6030211823982683, 0.60176492844192908, 0.60063816395703895, 0.59962638270259927, 0.5987168546923104, 0.59789838782998572], [0.75828148752775626, nan, nan, nan, nan, nan, nan, nan, nan, nan, nan, nan, nan, nan, nan, nan, nan, nan, nan, nan]]\n",
    "\n",
    "\n",
    "\n",
    "\n",
    "[[1.1477761386870613, 0.84829396769364507, 0.82767866907788556, 0.81057169578430288, 0.7919756786548916, 0.77160676375602288, 0.75120361974561256, 0.73219983976268177, 0.71503807245251516, 0.69970947752843926, 0.68608196167579649, 0.673991421674487, 0.66326925382768009, 0.65375392964374324, 0.64529627970806192, 0.63776166814670832, 0.63103061460042253, 0.62499852034263392, 0.61957476569991943, 0.61468138508151526], [0.62047737598515851, 0.61588408476324485, 0.61168089469110454, 0.60788395178754429, 0.60446472148485053, 0.60138174224118868, 0.59859436509326691, 0.59606604965356325, 0.59376491369386963, 0.59166345601517101, 0.5897380393845052, 0.58796834395287134, 0.5863368654807628, 0.58482848026879986, 0.58343007776185341, 0.58213025391631901, 0.58091905620672779, 0.57978777135439208, 0.57872874798785712, 0.57773524778849583], [0.58992469847502182, 0.58980399248213622, 0.58946945656437355, 0.58906443736077729, 0.58864516742478112, 0.58823522106466708, 0.58784433540160552, 0.5874766956472387, 0.58713380542702176, 0.5868157707089896, 0.58652195781462413, 0.5862513495645898, 0.58600274605708103, 0.58577488033090808, 0.58556648515277798, 0.58537633087587992, 0.58520324585905037, 0.58504612629030572, 0.58490393959487552, 0.58477572402739564], [0.60227363502872366, 0.60391802595551625, 0.60525964542038446, 0.60650196767799447, 0.60771304100598234, 0.6089333273277362, 0.61018807249969009, 0.61149582099641964, 0.61287399675297483, 0.61434223584144376, 0.61592556544632471, 0.61765894433448254, 0.61959521092650649, 0.62182099867494356, 0.62449297860080788, 0.62793482709981396, 0.63297120457071665, 0.64303228284860425, nan, nan], [nan, nan, nan, nan, nan, nan, nan, nan, nan, nan, nan, nan, nan, nan, nan, nan, nan, nan, nan, nan], [nan, nan, nan, nan, nan, nan, nan, nan, nan, nan, nan, nan, nan, nan, nan, nan, nan, nan, nan, nan]]\n",
    "[348.8163512702704, 367.96521323796514, 392.8034843604437, 657.8307430565419, 372.10877070405513, 356.2108493992073]\n",
    "\n",
    "19 iter, .008, 10 levels"
   ]
  },
  {
   "cell_type": "code",
   "execution_count": 7,
   "metadata": {
    "collapsed": false
   },
   "outputs": [
    {
     "name": "stdout",
     "output_type": "stream",
     "text": [
      "0\n",
      "(3953L, 1511L)\n",
      "(3953L, 1511L)\n"
     ]
    }
   ],
   "source": [
    "import pandas as pd\n",
    "import numpy as np\n",
    "import copy\n",
    "\n",
    "ratingsAll = pd.read_csv(\"ratingsGrid.csv\")\n",
    "ratingsAll.head()\n",
    "\n",
    "dataArr = ratingsAll.as_matrix()\n",
    "print(dataArr[0][0])\n",
    "\n",
    "#test, train\n",
    "trainArr = dataArr[:, 4530:6041]\n",
    "testArr = copy.copy(trainArr)\n",
    "\n",
    "myCount = 0\n",
    "myCount2 = 0\n",
    "\n",
    "movies = []\n",
    "users = []\n",
    "for userID in range(len(trainArr[0])):\n",
    "        for movieID in range(len(trainArr)):\n",
    "            if (trainArr[movieID][userID] != 0):\n",
    "                if (myCount2 == 0):\n",
    "                    trainArr[movieID][userID] = 0\n",
    "                    myCount += 1\n",
    "                    myCount2 = myCount2 + 1\n",
    "                    #movies.append(movieID)\n",
    "                    #users.append(userID)\n",
    "                else:\n",
    "                    myCount2 = myCount2 + 1\n",
    "                    if (myCount2 >= 100):\n",
    "                        myCount2 = 0\n",
    "                \n",
    "        if (myCount == 400):\n",
    "            break\n",
    "\n",
    "\n",
    "print trainArr.shape\n",
    "print testArr.shape\n"
   ]
  },
  {
   "cell_type": "code",
   "execution_count": 24,
   "metadata": {
    "collapsed": true
   },
   "outputs": [],
   "source": [
    "def matrix_factorization(R, P, Q, K, alpha, steps=20,  beta=0.02):\n",
    "    Q = Q.T\n",
    "    err = []\n",
    "    for step in xrange(steps):\n",
    "        for i in xrange(len(R)):\n",
    "            for j in xrange(len(R[i])):\n",
    "                if R[i][j] > 0:\n",
    "                    eij = R[i][j] - np.dot(P[i,:],Q[:,j])\n",
    "                    for k in xrange(K):\n",
    "                        P[i][k] = P[i][k] + alpha * (2 * eij * Q[k][j] - beta * P[i][k])\n",
    "                        Q[k][j] = Q[k][j] + alpha * (2 * eij * P[i][k] - beta * Q[k][j])\n",
    "        eR = np.dot(P,Q)\n",
    "        count = 0\n",
    "        errTotal = 0\n",
    "        mse = 0\n",
    "        for i in xrange(len(R)):\n",
    "            for j in xrange(len(R[i])):\n",
    "                if (testArr[i,j] > 0):\n",
    "                    errTotal += pow(testArr[i,j] - eR[i,j], 2)\n",
    "                    count += 1\n",
    "        if (count > 0):\n",
    "            mse = errTotal / count\n",
    "        err.append(mse)\n",
    "    return P, Q.T, err"
   ]
  },
  {
   "cell_type": "code",
   "execution_count": 17,
   "metadata": {
    "collapsed": false
   },
   "outputs": [
    {
     "name": "stdout",
     "output_type": "stream",
     "text": [
      "[6.3724428699693885, 0.90517962231750215, 0.87441756603724941, 0.86153695821360654, 0.84738687299740345, 0.83562991145047516, 0.82711385929337677, 0.82125197623566959, 0.81729150730523792, 0.81462216381367636, 0.81280694211795668, 0.81155825487220812, 0.81069609378377705, 0.81010808972828985, 0.80972171487764599, 0.80948806893215075, 0.80937296522072866, 0.80935185160638645, 0.80940667926038179, 0.80952384406341638]\n",
      "216.715285475\n"
     ]
    }
   ],
   "source": [
    "import time\n",
    "R = trainArr\n",
    "\n",
    "N = len(R)\n",
    "M = len(R[0])\n",
    "K = 2\n",
    "\n",
    "P = np.random.rand(N,K)\n",
    "Q = np.random.rand(M,K)\n",
    "alpha = 0.01\n",
    "\n",
    "start = time.clock()\n",
    "nP, nQ, err = matrix_factorization(R, P, Q, K, alpha)\n",
    "end = time.clock()\n",
    "myTime = end - start\n",
    "print err\n",
    "print myTime"
   ]
  },
  {
   "cell_type": "markdown",
   "metadata": {},
   "source": [
    "[6.3724428699693885, 0.90517962231750215, 0.87441756603724941, 0.86153695821360654, 0.84738687299740345, 0.83562991145047516, 0.82711385929337677, 0.82125197623566959, 0.81729150730523792, 0.81462216381367636, 0.81280694211795668, 0.81155825487220812, 0.81069609378377705, 0.81010808972828985, 0.80972171487764599, 0.80948806893215075, 0.80937296522072866, 0.80935185160638645, 0.80940667926038179, 0.80952384406341638]"
   ]
  },
  {
   "cell_type": "code",
   "execution_count": 25,
   "metadata": {
    "collapsed": false
   },
   "outputs": [
    {
     "ename": "KeyboardInterrupt",
     "evalue": "",
     "output_type": "error",
     "traceback": [
      "\u001b[0;31m---------------------------------------------------------------------------\u001b[0m",
      "\u001b[0;31mKeyboardInterrupt\u001b[0m                         Traceback (most recent call last)",
      "\u001b[0;32m<ipython-input-25-67cd178abf9f>\u001b[0m in \u001b[0;36m<module>\u001b[0;34m()\u001b[0m\n\u001b[1;32m     14\u001b[0m         \u001b[0malpha\u001b[0m \u001b[1;33m=\u001b[0m \u001b[0mAvalues\u001b[0m\u001b[1;33m[\u001b[0m\u001b[0mj\u001b[0m\u001b[1;33m]\u001b[0m\u001b[1;33m\u001b[0m\u001b[0m\n\u001b[1;32m     15\u001b[0m         \u001b[0mstart\u001b[0m \u001b[1;33m=\u001b[0m \u001b[0mtime\u001b[0m\u001b[1;33m.\u001b[0m\u001b[0mclock\u001b[0m\u001b[1;33m(\u001b[0m\u001b[1;33m)\u001b[0m\u001b[1;33m\u001b[0m\u001b[0m\n\u001b[0;32m---> 16\u001b[0;31m         \u001b[0mnP\u001b[0m\u001b[1;33m,\u001b[0m \u001b[0mnQ\u001b[0m\u001b[1;33m,\u001b[0m \u001b[0merr\u001b[0m \u001b[1;33m=\u001b[0m \u001b[0mmatrix_factorization\u001b[0m\u001b[1;33m(\u001b[0m\u001b[0mR\u001b[0m\u001b[1;33m,\u001b[0m \u001b[0mP\u001b[0m\u001b[1;33m,\u001b[0m \u001b[0mQ\u001b[0m\u001b[1;33m,\u001b[0m \u001b[0mKvalues\u001b[0m\u001b[1;33m[\u001b[0m\u001b[0mi\u001b[0m\u001b[1;33m]\u001b[0m\u001b[1;33m,\u001b[0m \u001b[0malpha\u001b[0m\u001b[1;33m)\u001b[0m\u001b[1;33m\u001b[0m\u001b[0m\n\u001b[0m\u001b[1;32m     17\u001b[0m         \u001b[0mend\u001b[0m \u001b[1;33m=\u001b[0m \u001b[0mtime\u001b[0m\u001b[1;33m.\u001b[0m\u001b[0mclock\u001b[0m\u001b[1;33m(\u001b[0m\u001b[1;33m)\u001b[0m\u001b[1;33m\u001b[0m\u001b[0m\n\u001b[1;32m     18\u001b[0m         \u001b[0mtimes\u001b[0m\u001b[1;33m.\u001b[0m\u001b[0mappend\u001b[0m\u001b[1;33m(\u001b[0m\u001b[0mend\u001b[0m \u001b[1;33m-\u001b[0m \u001b[0mstart\u001b[0m\u001b[1;33m)\u001b[0m\u001b[1;33m\u001b[0m\u001b[0m\n",
      "\u001b[0;32m<ipython-input-24-5c290811a2b6>\u001b[0m in \u001b[0;36mmatrix_factorization\u001b[0;34m(R, P, Q, K, alpha, steps, beta)\u001b[0m\n\u001b[1;32m      5\u001b[0m         \u001b[1;32mfor\u001b[0m \u001b[0mi\u001b[0m \u001b[1;32min\u001b[0m \u001b[0mxrange\u001b[0m\u001b[1;33m(\u001b[0m\u001b[0mlen\u001b[0m\u001b[1;33m(\u001b[0m\u001b[0mR\u001b[0m\u001b[1;33m)\u001b[0m\u001b[1;33m)\u001b[0m\u001b[1;33m:\u001b[0m\u001b[1;33m\u001b[0m\u001b[0m\n\u001b[1;32m      6\u001b[0m             \u001b[1;32mfor\u001b[0m \u001b[0mj\u001b[0m \u001b[1;32min\u001b[0m \u001b[0mxrange\u001b[0m\u001b[1;33m(\u001b[0m\u001b[0mlen\u001b[0m\u001b[1;33m(\u001b[0m\u001b[0mR\u001b[0m\u001b[1;33m[\u001b[0m\u001b[0mi\u001b[0m\u001b[1;33m]\u001b[0m\u001b[1;33m)\u001b[0m\u001b[1;33m)\u001b[0m\u001b[1;33m:\u001b[0m\u001b[1;33m\u001b[0m\u001b[0m\n\u001b[0;32m----> 7\u001b[0;31m                 \u001b[1;32mif\u001b[0m \u001b[0mR\u001b[0m\u001b[1;33m[\u001b[0m\u001b[0mi\u001b[0m\u001b[1;33m]\u001b[0m\u001b[1;33m[\u001b[0m\u001b[0mj\u001b[0m\u001b[1;33m]\u001b[0m \u001b[1;33m>\u001b[0m \u001b[1;36m0\u001b[0m\u001b[1;33m:\u001b[0m\u001b[1;33m\u001b[0m\u001b[0m\n\u001b[0m\u001b[1;32m      8\u001b[0m                     \u001b[0meij\u001b[0m \u001b[1;33m=\u001b[0m \u001b[0mR\u001b[0m\u001b[1;33m[\u001b[0m\u001b[0mi\u001b[0m\u001b[1;33m]\u001b[0m\u001b[1;33m[\u001b[0m\u001b[0mj\u001b[0m\u001b[1;33m]\u001b[0m \u001b[1;33m-\u001b[0m \u001b[0mnp\u001b[0m\u001b[1;33m.\u001b[0m\u001b[0mdot\u001b[0m\u001b[1;33m(\u001b[0m\u001b[0mP\u001b[0m\u001b[1;33m[\u001b[0m\u001b[0mi\u001b[0m\u001b[1;33m,\u001b[0m\u001b[1;33m:\u001b[0m\u001b[1;33m]\u001b[0m\u001b[1;33m,\u001b[0m\u001b[0mQ\u001b[0m\u001b[1;33m[\u001b[0m\u001b[1;33m:\u001b[0m\u001b[1;33m,\u001b[0m\u001b[0mj\u001b[0m\u001b[1;33m]\u001b[0m\u001b[1;33m)\u001b[0m\u001b[1;33m\u001b[0m\u001b[0m\n\u001b[1;32m      9\u001b[0m                     \u001b[1;32mfor\u001b[0m \u001b[0mk\u001b[0m \u001b[1;32min\u001b[0m \u001b[0mxrange\u001b[0m\u001b[1;33m(\u001b[0m\u001b[0mK\u001b[0m\u001b[1;33m)\u001b[0m\u001b[1;33m:\u001b[0m\u001b[1;33m\u001b[0m\u001b[0m\n",
      "\u001b[0;31mKeyboardInterrupt\u001b[0m: "
     ]
    }
   ],
   "source": [
    "R = trainArr\n",
    "N = len(R)\n",
    "M = len(R[0])\n",
    "Kvalues = [2, 5, 7, 10]\n",
    "Avalues = [0.005, 0.01, 0.02]\n",
    "\n",
    "times = []\n",
    "errs = []\n",
    "\n",
    "for i in range(len(Kvalues)):\n",
    "    P = np.random.rand(N,Kvalues[i])\n",
    "    Q = np.random.rand(M,Kvalues[i])\n",
    "    for j in range(len(Avalues)):\n",
    "        alpha = Avalues[j]\n",
    "        start = time.clock()\n",
    "        nP, nQ, err = matrix_factorization(R, P, Q, Kvalues[i], alpha)\n",
    "        end = time.clock()\n",
    "        times.append(end - start)\n",
    "        errs.append(err)\n",
    "        \n",
    "print times\n",
    "print errs"
   ]
  },
  {
   "cell_type": "code",
   "execution_count": 26,
   "metadata": {
    "collapsed": false
   },
   "outputs": [
    {
     "name": "stdout",
     "output_type": "stream",
     "text": [
      "[[1.1477761386870613, 0.84829396769364507, 0.82767866907788556, 0.81057169578430288, 0.7919756786548916, 0.77160676375602288, 0.75120361974561256, 0.73219983976268177, 0.71503807245251516, 0.69970947752843926, 0.68608196167579649, 0.673991421674487, 0.66326925382768009, 0.65375392964374324, 0.64529627970806192, 0.63776166814670832, 0.63103061460042253, 0.62499852034263392, 0.61957476569991943, 0.61468138508151526], [0.62047737598515851, 0.61588408476324485, 0.61168089469110454, 0.60788395178754429, 0.60446472148485053, 0.60138174224118868, 0.59859436509326691, 0.59606604965356325, 0.59376491369386963, 0.59166345601517101, 0.5897380393845052, 0.58796834395287134, 0.5863368654807628, 0.58482848026879986, 0.58343007776185341, 0.58213025391631901, 0.58091905620672779, 0.57978777135439208, 0.57872874798785712, 0.57773524778849583], [0.58992469847502182, 0.58980399248213622, 0.58946945656437355, 0.58906443736077729, 0.58864516742478112, 0.58823522106466708, 0.58784433540160552, 0.5874766956472387, 0.58713380542702176, 0.5868157707089896, 0.58652195781462413, 0.5862513495645898, 0.58600274605708103, 0.58577488033090808, 0.58556648515277798, 0.58537633087587992, 0.58520324585905037, 0.58504612629030572, 0.58490393959487552, 0.58477572402739564], [0.60227363502872366, 0.60391802595551625, 0.60525964542038446, 0.60650196767799447, 0.60771304100598234, 0.6089333273277362, 0.61018807249969009, 0.61149582099641964, 0.61287399675297483, 0.61434223584144376, 0.61592556544632471, 0.61765894433448254, 0.61959521092650649, 0.62182099867494356, 0.62449297860080788, 0.62793482709981396, 0.63297120457071665, 0.64303228284860425, nan, nan], [nan, nan, nan, nan, nan, nan, nan, nan, nan, nan, nan, nan, nan, nan, nan, nan, nan, nan, nan, nan], [nan, nan, nan, nan, nan, nan, nan, nan, nan, nan, nan, nan, nan, nan, nan, nan, nan, nan, nan, nan]]\n",
      "[348.8163512702704, 367.96521323796514, 392.8034843604437, 657.8307430565419, 372.10877070405513, 356.2108493992073]\n"
     ]
    }
   ],
   "source": [
    "P = np.random.rand(N,10)\n",
    "Q = np.random.rand(M,10)\n",
    "errs2 = []\n",
    "times2 = []\n",
    "Avalues2 = [0.006, 0.008, 0.01, 0.012, 0.014, 0.016]\n",
    "for j in range(len(Avalues2)):\n",
    "    alpha = Avalues2[j]\n",
    "    start = time.clock()\n",
    "    nP, nQ, err = matrix_factorization(R, P, Q, 10, alpha)\n",
    "    end = time.clock()\n",
    "    times2.append(end - start)\n",
    "    errs2.append(err)\n",
    "print errs2\n",
    "print times2"
   ]
  },
  {
   "cell_type": "code",
   "execution_count": 27,
   "metadata": {
    "collapsed": false
   },
   "outputs": [
    {
     "name": "stdout",
     "output_type": "stream",
     "text": [
      "19\n",
      "0.614681385082\n",
      "19\n",
      "0.577735247788\n",
      "19\n",
      "0.584775724027\n",
      "18\n",
      "0.602273635029\n",
      "0\n",
      "nan\n",
      "0\n",
      "nan\n"
     ]
    }
   ],
   "source": [
    "for num in errs2:\n",
    "    print np.argmin(num)\n",
    "    print min(num)"
   ]
  },
  {
   "cell_type": "markdown",
   "metadata": {},
   "source": [
    "times of scaling\n",
    "[0.9848664992973681, 2.198556439770755, 3.0704502392117945, 4.453764625076985, 5.4588354412391595, 8.194921289059408, 7.547446433928599, 8.654193706282655, 10.316474428812768, 10.883482939383896, 11.683884783604128, 12.845331817535879, 14.241764956657647, 15.545376423033787, 17.154060679266735, 18.376020005368446, 18.81408862678228, 20.288047305512123, 21.79915525871189, 22.375221053794974, 24.82281512007961, 25.25303277911985, 26.70594003126331, 27.184273601440054, 27.382930699635267, 28.65141434954927, 29.596537744935404, 30.374890657319156, 31.48959033994913, 33.30357909778468]"
   ]
  },
  {
   "cell_type": "code",
   "execution_count": 35,
   "metadata": {
    "collapsed": true
   },
   "outputs": [],
   "source": [
    "def matrix_factorization2(R, P, Q, K, alpha, alpha1, steps=20,  beta=0.02):\n",
    "    Q = Q.T\n",
    "    err = []\n",
    "    #first iteration\n",
    "    for i in xrange(len(R)):\n",
    "            for j in xrange(len(R[i])):\n",
    "                if R[i][j] > 0:\n",
    "                    eij = R[i][j] - np.dot(P[i,:],Q[:,j])\n",
    "                    for k in xrange(K):\n",
    "                        P[i][k] = P[i][k] + alpha1 * (2 * eij * Q[k][j] - beta * P[i][k])\n",
    "                        Q[k][j] = Q[k][j] + alpha1 * (2 * eij * P[i][k] - beta * Q[k][j])\n",
    "    eR = np.dot(P,Q)\n",
    "    count = 0\n",
    "    errTotal = 0\n",
    "    mse = 0\n",
    "    for i in xrange(len(R)):\n",
    "        for j in xrange(len(R[i])):\n",
    "            if (testArr[i,j] > 0):\n",
    "                errTotal += pow(testArr[i,j] - eR[i,j], 2)\n",
    "                count += 1\n",
    "    if (count > 0):\n",
    "        mse = errTotal / count\n",
    "    err.append(mse)\n",
    "    for step in xrange(1,steps):\n",
    "        for i in xrange(len(R)):\n",
    "            for j in xrange(len(R[i])):\n",
    "                if R[i][j] > 0:\n",
    "                    eij = R[i][j] - np.dot(P[i,:],Q[:,j])\n",
    "                    for k in xrange(K):\n",
    "                        P[i][k] = P[i][k] + alpha * (2 * eij * Q[k][j] - beta * P[i][k])\n",
    "                        Q[k][j] = Q[k][j] + alpha * (2 * eij * P[i][k] - beta * Q[k][j])\n",
    "        eR = np.dot(P,Q)\n",
    "        count = 0\n",
    "        errTotal = 0\n",
    "        mse = 0\n",
    "        for i in xrange(len(R)):\n",
    "            for j in xrange(len(R[i])):\n",
    "                if (testArr[i,j] > 0):\n",
    "                    errTotal += pow(testArr[i,j] - eR[i,j], 2)\n",
    "                    count += 1\n",
    "        if (count > 0):\n",
    "            mse = errTotal / count\n",
    "        err.append(mse)\n",
    "    return P, Q.T, err"
   ]
  },
  {
   "cell_type": "code",
   "execution_count": 36,
   "metadata": {
    "collapsed": false
   },
   "outputs": [
    {
     "name": "stdout",
     "output_type": "stream",
     "text": [
      "[394.74842933383843, 367.09715235343356, 390.41914799551523, 372.24180087790046, 334.8073583282021]\n",
      "[[1.3487054889742325, 0.81767301800053638, 0.78562846677648623, 0.75797051499229817, 0.733140640803848, 0.71226270709332007, 0.69500823229586639, 0.68067307449206937, 0.66863063576908355, 0.65839875055166008, 0.64961526073955655, 0.64200656201253603, 0.63536337318543357, 0.62952322750713918, 0.62435783543526313, 0.61976409116827746, 0.61565782441511319, 0.6119695075547128, 0.608641256428609, 0.60562464295628693], [nan, nan, nan, nan, nan, nan, nan, nan, nan, nan, nan, nan, nan, nan, nan, nan, nan, nan, nan, nan], [nan, nan, nan, nan, nan, nan, nan, nan, nan, nan, nan, nan, nan, nan, nan, nan, nan, nan, nan, nan], [nan, nan, nan, nan, nan, nan, nan, nan, nan, nan, nan, nan, nan, nan, nan, nan, nan, nan, nan, nan], [nan, nan, nan, nan, nan, nan, nan, nan, nan, nan, nan, nan, nan, nan, nan, nan, nan, nan, nan, nan]]\n"
     ]
    }
   ],
   "source": [
    "R = trainArr\n",
    "N = len(R)\n",
    "M = len(R[0])\n",
    "A1values = [0.02, 0.04, 0.06, 0.08, 0.1]\n",
    "P = np.random.rand(N,10)\n",
    "Q = np.random.rand(M,10)\n",
    "timesA1 = []\n",
    "errsA1 = []\n",
    "\n",
    "\n",
    "    \n",
    "for j in range(len(A1values)):\n",
    "    alpha1 = A1values[j]\n",
    "    start = time.clock()\n",
    "    nP, nQ, err = matrix_factorization2(R, P, Q, 10, 0.008, alpha1)\n",
    "    end = time.clock()\n",
    "    timesA1.append(end - start)\n",
    "    errsA1.append(err)\n",
    "        \n",
    "print timesA1\n",
    "print errsA1"
   ]
  },
  {
   "cell_type": "markdown",
   "metadata": {},
   "source": [
    "[394.74842933383843, 367.09715235343356, 390.41914799551523, 372.24180087790046, 334.8073583282021]\n",
    "[[1.3487054889742325, 0.81767301800053638, 0.78562846677648623, 0.75797051499229817, 0.733140640803848, 0.71226270709332007, 0.69500823229586639, 0.68067307449206937, 0.66863063576908355, 0.65839875055166008, 0.64961526073955655, 0.64200656201253603, 0.63536337318543357, 0.62952322750713918, 0.62435783543526313, 0.61976409116827746, 0.61565782441511319, 0.6119695075547128, 0.608641256428609, 0.60562464295628693], [nan, nan, nan, nan, nan, nan, nan, nan, nan, nan, nan, nan, nan, nan, nan, nan, nan, nan, nan, nan], [nan, nan, nan, nan, nan, nan, nan, nan, nan, nan, nan, nan, nan, nan, nan, nan, nan, nan, nan, nan], [nan, nan, nan, nan, nan, nan, nan, nan, nan, nan, nan, nan, nan, nan, nan, nan, nan, nan, nan, nan], [nan, nan, nan, nan, nan, nan, nan, nan, nan, nan, nan, nan, nan, nan, nan, nan, nan, nan, nan, nan]]"
   ]
  },
  {
   "cell_type": "code",
   "execution_count": 2,
   "metadata": {
    "collapsed": false
   },
   "outputs": [
    {
     "data": {
      "image/png": "[encoded data removed]",
      "text/plain": [
       "<matplotlib.figure.Figure at 0x99f7cf8>"
      ]
     },
     "metadata": {},
     "output_type": "display_data"
    }
   ],
   "source": [
    "%matplotlib inline\n",
    "import pandas as pd\n",
    "import numpy as np\n",
    "import matplotlib.pyplot as plt\n",
    "\n",
    "errs = [1.1477761386870613, 0.84829396769364507, 0.82767866907788556, 0.81057169578430288, \n",
    " 0.7919756786548916, 0.77160676375602288, 0.75120361974561256, 0.73219983976268177, \n",
    " 0.71503807245251516, 0.69970947752843926, 0.68608196167579649, 0.673991421674487, \n",
    " 0.66326925382768009, 0.65375392964374324, 0.64529627970806192, 0.63776166814670832,\n",
    " 0.63103061460042253, 0.62499852034263392, 0.61957476569991943, 0.61468138508151526]\n",
    "\n",
    "plt.plot(range(len(errs)), errs, 'o')\n",
    "plt.ylabel('MSE')\n",
    "plt.xlabel('Iteration')\n",
    "plt.title('Matrix Factorization Tuning')\n",
    "plt.show()"
   ]
  },
  {
   "cell_type": "code",
   "execution_count": null,
   "metadata": {
    "collapsed": true
   },
   "outputs": [],
   "source": []
  }
 ],
 "metadata": {
  "anaconda-cloud": {},
  "kernelspec": {
   "display_name": "Python [conda root]",
   "language": "python",
   "name": "conda-root-py"
  },
  "language_info": {
   "codemirror_mode": {
    "name": "ipython",
    "version": 2
   },
   "file_extension": ".py",
   "mimetype": "text/x-python",
   "name": "python",
   "nbconvert_exporter": "python",
   "pygments_lexer": "ipython2",
   "version": "2.7.12"
  }
 },
 "nbformat": 4,
 "nbformat_minor": 1
}
