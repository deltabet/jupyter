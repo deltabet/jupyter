{
 "cells": [
  {
   "cell_type": "code",
   "execution_count": 31,
   "metadata": {
    "collapsed": false
   },
   "outputs": [],
   "source": [
    "import csv\n",
    "import pandas as pd\n",
    "\n",
    "with open('ml-1m/users.dat', 'r') as users_file:\n",
    "    lines = [line.rstrip('\\n') for line in users_file]\n",
    "    \n",
    "    listOfElements = [] \n",
    "    for line in lines:\n",
    "        element = line.split(\"::\")\n",
    "        listOfElements.append(element)\n",
    "    \n",
    "    with open('ml-1m/users.csv', 'w') as users_output:\n",
    "        features = [\"UserID\",\"Gender\",\"Age\",\"Occupation\",\"Zip-code\"]\n",
    "        csv.writer(users_output).writerow(features)\n",
    "        for element in listOfElements:\n",
    "            csv.writer(users_output).writerow(element)\n",
    "\n",
    "users_df = pd.read_csv(\"ml-1m/users.csv\")"
   ]
  },
  {
   "cell_type": "code",
   "execution_count": 40,
   "metadata": {
    "collapsed": false
   },
   "outputs": [
    {
     "name": "stdout",
     "output_type": "stream",
     "text": [
      "   MovieID                               Title                        Genres\n",
      "0        1                    Toy Story (1995)   Animation|Children's|Comedy\n",
      "1        2                      Jumanji (1995)  Adventure|Children's|Fantasy\n",
      "2        3             Grumpier Old Men (1995)                Comedy|Romance\n",
      "3        4            Waiting to Exhale (1995)                  Comedy|Drama\n",
      "4        5  Father of the Bride Part II (1995)                        Comedy\n"
     ]
    }
   ],
   "source": [
    "with open('ml-1m/movies.dat', 'r') as movies_file:\n",
    "    lines = [line.rstrip('\\n') for line in movies_file]\n",
    "\n",
    "    listOfElements = []\n",
    "    for line in lines:\n",
    "        element = line.split(\"::\")\n",
    "        listOfElements.append(element)\n",
    "    \n",
    "    with open('ml-1m/movies.csv', 'w') as movies_output:\n",
    "        features = [\"MovieID\",\"Title\",\"Genres\"]\n",
    "        csv.writer(movies_output).writerow(features)\n",
    "        for element in listOfElements:\n",
    "            csv.writer(movies_output).writerow(element)\n",
    "            \n",
    "movies_df = pd.read_csv(\"ml-1m/movies.csv\")\n",
    "    "
   ]
  },
  {
   "cell_type": "code",
   "execution_count": 41,
   "metadata": {
    "collapsed": true
   },
   "outputs": [],
   "source": [
    "with open('ml-1m/ratings.dat', 'r') as ratings_file:\n",
    "    lines = [line.rstrip('\\n') for line in ratings_file]\n",
    "\n",
    "    listOfElements = []\n",
    "    for line in lines:\n",
    "        element = line.split(\"::\")\n",
    "        listOfElements.append(element)\n",
    "    \n",
    "    with open('ml-1m/ratings.csv', 'w') as ratings_output:\n",
    "        features = [\"UserID\",\"MovieID\",\"Rating\",\"Timestamp\"]\n",
    "        csv.writer(ratings_output).writerow(features)\n",
    "        for element in listOfElements:\n",
    "            csv.writer(ratings_output).writerow(element)\n",
    "            \n",
    "ratings_df = pd.read_csv(\"ml-1m/ratings.csv\")"
   ]
  },
  {
   "cell_type": "code",
   "execution_count": null,
   "metadata": {
    "collapsed": true
   },
   "outputs": [],
   "source": []
  }
 ],
 "metadata": {
  "anaconda-cloud": {},
  "kernelspec": {
   "display_name": "Python [Root]",
   "language": "python",
   "name": "Python [Root]"
  },
  "language_info": {
   "codemirror_mode": {
    "name": "ipython",
    "version": 2
   },
   "file_extension": ".py",
   "mimetype": "text/x-python",
   "name": "python",
   "nbconvert_exporter": "python",
   "pygments_lexer": "ipython2",
   "version": "2.7.12"
  }
 },
 "nbformat": 4,
 "nbformat_minor": 0
}
