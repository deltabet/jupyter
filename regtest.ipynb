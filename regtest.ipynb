{
 "cells": [
  {
   "cell_type": "code",
   "execution_count": null,
   "metadata": {
    "collapsed": true
   },
   "outputs": [],
   "source": [
    "import pandas as pd\n",
    "import numpy as np\n",
    "\n",
    "ratingsAll = pd.read_csv(\"ratingGrid.csv\")\n",
    "dataArr = ratingsAll.as_matrix()\n",
    "users = pd.read_csv(\"users_catergory.csv\")\n",
    "moviesCat = pd.read_csv(\"movies_catergory.csv\")\n",
    "movies = pd.read_csv(\"movies_avg.csv\")"
   ]
  },
  {
   "cell_type": "code",
   "execution_count": null,
   "metadata": {
    "collapsed": true
   },
   "outputs": [],
   "source": [
    "import time\n",
    "start = time.clock()\n",
    "for user in range(len(userMovies)):\n",
    "    userID = user + 1\n",
    "    countArr2 = np.zeros(18)\n",
    "    sumArr2 = np.zeros(18)\n",
    "    #avgArr2 = np.zeros(18)\n",
    "    for i in range(len(dataArr)):\n",
    "        if (dataArr[i][userID] != 0):\n",
    "            for g in range(len(genres)):\n",
    "                genreName = genres[g]\n",
    "                if (movieInfo.ix[movieInfo['MovieID'] == i, genreName].item() != 0):\n",
    "                    sumArr2[g] = sumArr2[g] + dataArr[i][j]\n",
    "                    countArr2[g] = countArr2[g] + 1\n",
    "\n",
    "    \n",
    "    userMovies.ix[userMovies['UserID'] == j, genre] = float(sumArr2[g]) / countArr2[g]\n",
    "    #avgArr2[g] = float(sumArr2[g]) / countArr2[g]\n",
    "    print j\n",
    "end = time.clock()\n",
    "print (end - start)\n",
    "userMovies.head()\n",
    "\n",
    "\n",
    "import time\n",
    "start = time.clock()\n",
    "for user in range(len(userGroups)):\n",
    "    userID = user + 1\n",
    "    countArr = np.zeros(12)\n",
    "    totalArr = np.zeros(12)\n",
    "    for i in range(len(dataArr)):\n",
    "        if (dataArr[i][userID] != 0):\n",
    "            movieCat = moviesCat.ix[moviesCat['MovieID'] == i, 'Type2'].item()\n",
    "            countArr[movieCat] = countArr[movieCat] + 1\n",
    "            totalArr[movieCat] = totalArr[movieCat] + dataArr[i][userID]\n",
    "    avgArr = totalArr / countArr\n",
    "    avgArr = np.nan_to_num(avgArr)\n",
    "    userGroups.ix[user, range(12)] = avgArr\n",
    "end = time.clock()\n",
    "print (end - start)\n",
    "userGroups.head()"
   ]
  }
 ],
 "metadata": {
  "kernelspec": {
   "display_name": "Python [conda root]",
   "language": "python",
   "name": "conda-root-py"
  }
 },
 "nbformat": 4,
 "nbformat_minor": 1
}
