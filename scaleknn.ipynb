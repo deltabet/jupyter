{
 "cells": [
  {
   "cell_type": "code",
   "execution_count": 5,
   "metadata": {
    "collapsed": false
   },
   "outputs": [
    {
     "name": "stdout",
     "output_type": "stream",
     "text": [
      "0\n",
      "(3953L, 4027L)\n",
      "(3953L, 2014L)\n"
     ]
    },
    {
     "data": {
      "text/html": [
       "<div>\n",
       "<table border=\"1\" class=\"dataframe\">\n",
       "  <thead>\n",
       "    <tr style=\"text-align: right;\">\n",
       "      <th></th>\n",
       "      <th>0</th>\n",
       "      <th>1</th>\n",
       "      <th>2</th>\n",
       "      <th>3</th>\n",
       "      <th>4</th>\n",
       "      <th>5</th>\n",
       "      <th>6</th>\n",
       "      <th>7</th>\n",
       "      <th>8</th>\n",
       "      <th>9</th>\n",
       "      <th>...</th>\n",
       "      <th>6031</th>\n",
       "      <th>6032</th>\n",
       "      <th>6033</th>\n",
       "      <th>6034</th>\n",
       "      <th>6035</th>\n",
       "      <th>6036</th>\n",
       "      <th>6037</th>\n",
       "      <th>6038</th>\n",
       "      <th>6039</th>\n",
       "      <th>6040</th>\n",
       "    </tr>\n",
       "  </thead>\n",
       "  <tbody>\n",
       "    <tr>\n",
       "      <th>0</th>\n",
       "      <td>0</td>\n",
       "      <td>0</td>\n",
       "      <td>0</td>\n",
       "      <td>0</td>\n",
       "      <td>0</td>\n",
       "      <td>0</td>\n",
       "      <td>0</td>\n",
       "      <td>0</td>\n",
       "      <td>0</td>\n",
       "      <td>0</td>\n",
       "      <td>...</td>\n",
       "      <td>0</td>\n",
       "      <td>0</td>\n",
       "      <td>0</td>\n",
       "      <td>0</td>\n",
       "      <td>0</td>\n",
       "      <td>0</td>\n",
       "      <td>0</td>\n",
       "      <td>0</td>\n",
       "      <td>0</td>\n",
       "      <td>0</td>\n",
       "    </tr>\n",
       "    <tr>\n",
       "      <th>1</th>\n",
       "      <td>0</td>\n",
       "      <td>5</td>\n",
       "      <td>0</td>\n",
       "      <td>0</td>\n",
       "      <td>0</td>\n",
       "      <td>0</td>\n",
       "      <td>4</td>\n",
       "      <td>0</td>\n",
       "      <td>4</td>\n",
       "      <td>5</td>\n",
       "      <td>...</td>\n",
       "      <td>0</td>\n",
       "      <td>4</td>\n",
       "      <td>0</td>\n",
       "      <td>0</td>\n",
       "      <td>4</td>\n",
       "      <td>0</td>\n",
       "      <td>0</td>\n",
       "      <td>0</td>\n",
       "      <td>0</td>\n",
       "      <td>3</td>\n",
       "    </tr>\n",
       "    <tr>\n",
       "      <th>2</th>\n",
       "      <td>0</td>\n",
       "      <td>0</td>\n",
       "      <td>0</td>\n",
       "      <td>0</td>\n",
       "      <td>0</td>\n",
       "      <td>0</td>\n",
       "      <td>0</td>\n",
       "      <td>0</td>\n",
       "      <td>0</td>\n",
       "      <td>0</td>\n",
       "      <td>...</td>\n",
       "      <td>0</td>\n",
       "      <td>0</td>\n",
       "      <td>0</td>\n",
       "      <td>0</td>\n",
       "      <td>0</td>\n",
       "      <td>0</td>\n",
       "      <td>0</td>\n",
       "      <td>0</td>\n",
       "      <td>0</td>\n",
       "      <td>0</td>\n",
       "    </tr>\n",
       "    <tr>\n",
       "      <th>3</th>\n",
       "      <td>0</td>\n",
       "      <td>0</td>\n",
       "      <td>0</td>\n",
       "      <td>0</td>\n",
       "      <td>0</td>\n",
       "      <td>0</td>\n",
       "      <td>0</td>\n",
       "      <td>0</td>\n",
       "      <td>0</td>\n",
       "      <td>0</td>\n",
       "      <td>...</td>\n",
       "      <td>0</td>\n",
       "      <td>0</td>\n",
       "      <td>0</td>\n",
       "      <td>0</td>\n",
       "      <td>1</td>\n",
       "      <td>0</td>\n",
       "      <td>0</td>\n",
       "      <td>0</td>\n",
       "      <td>0</td>\n",
       "      <td>0</td>\n",
       "    </tr>\n",
       "    <tr>\n",
       "      <th>4</th>\n",
       "      <td>0</td>\n",
       "      <td>0</td>\n",
       "      <td>0</td>\n",
       "      <td>0</td>\n",
       "      <td>0</td>\n",
       "      <td>0</td>\n",
       "      <td>0</td>\n",
       "      <td>0</td>\n",
       "      <td>3</td>\n",
       "      <td>0</td>\n",
       "      <td>...</td>\n",
       "      <td>0</td>\n",
       "      <td>0</td>\n",
       "      <td>0</td>\n",
       "      <td>0</td>\n",
       "      <td>2</td>\n",
       "      <td>2</td>\n",
       "      <td>0</td>\n",
       "      <td>0</td>\n",
       "      <td>0</td>\n",
       "      <td>0</td>\n",
       "    </tr>\n",
       "  </tbody>\n",
       "</table>\n",
       "<p>5 rows × 6041 columns</p>\n",
       "</div>"
      ],
      "text/plain": [
       "   0  1  2  3  4  5  6  7  8  9  ...   6031  6032  6033  6034  6035  6036  \\\n",
       "0  0  0  0  0  0  0  0  0  0  0  ...      0     0     0     0     0     0   \n",
       "1  0  5  0  0  0  0  4  0  4  5  ...      0     4     0     0     4     0   \n",
       "2  0  0  0  0  0  0  0  0  0  0  ...      0     0     0     0     0     0   \n",
       "3  0  0  0  0  0  0  0  0  0  0  ...      0     0     0     0     1     0   \n",
       "4  0  0  0  0  0  0  0  0  3  0  ...      0     0     0     0     2     2   \n",
       "\n",
       "   6037  6038  6039  6040  \n",
       "0     0     0     0     0  \n",
       "1     0     0     0     3  \n",
       "2     0     0     0     0  \n",
       "3     0     0     0     0  \n",
       "4     0     0     0     0  \n",
       "\n",
       "[5 rows x 6041 columns]"
      ]
     },
     "execution_count": 5,
     "metadata": {},
     "output_type": "execute_result"
    }
   ],
   "source": [
    "import pandas as pd\n",
    "import numpy as np\n",
    "\n",
    "ratingsAll = pd.read_csv(\"ratingsGrid.csv\")\n",
    "ratingsAll.head()\n",
    "\n",
    "dataArr = ratingsAll.as_matrix()\n",
    "print(dataArr[0][0])\n",
    "\n",
    "#test, train\n",
    "trainArr = dataArr[:, 0:4027]\n",
    "testArr = dataArr[:, 4027:]\n",
    "print trainArr.shape\n",
    "print testArr.shape\n",
    "users_df = pd.read_csv(\"users_avg.csv\")\n",
    "movies_df = pd.read_csv(\"movies_avg.csv\")\n",
    "ratingsAll.head()"
   ]
  },
  {
   "cell_type": "code",
   "execution_count": 6,
   "metadata": {
    "collapsed": true
   },
   "outputs": [],
   "source": [
    "import math\n",
    "\n",
    "\n",
    "def findSimilarity(movie1, movie2, grid):\n",
    "    users = []\n",
    "    ratings1 = grid[movie1]\n",
    "    ratings2 = grid[movie2]\n",
    "    for ind in range(len(ratings1)):\n",
    "        if(ratings1[ind] != 0 and ratings2[ind] != 0):\n",
    "            users.append(ind)\n",
    "    difab = 0\n",
    "    difas = 0\n",
    "    difbs = 0\n",
    "    for ind in range(len(users)):\n",
    "        userID = users[ind]\n",
    "        avg = users_df['Average'][userID - 1]\n",
    "        rating1 = grid[movie1][userID]\n",
    "        rating2 = grid[movie2][userID]\n",
    "        difab += (rating1 - avg) * (rating2 - avg)\n",
    "        difas += np.power(rating1 - avg, 2)\n",
    "        difbs += np.power(rating2 - avg, 2)\n",
    "    if (difas == 0 or difbs == 0):\n",
    "        return 0\n",
    "\n",
    "    sim = (difab) / (np.sqrt(difas * difbs))\n",
    "    return sim\n",
    "\n",
    "\n",
    "def knn(user, movie, K, grid, grid2):\n",
    "    #all movies rated by user\n",
    "    userMovies = []\n",
    "    userRatings = []\n",
    "\n",
    "\n",
    "    for ind in range(len(grid)):\n",
    "        userRatings.append(grid[ind][user])\n",
    "\n",
    "\n",
    "    for ind in range(len(userRatings)):\n",
    "        if (userRatings[ind] != 0):\n",
    "            userMovies.append(ind)\n",
    "\n",
    "    simList = [0] * len(grid) \n",
    "    for ind in range(len(userMovies)):\n",
    "        sim = findSimilarity(movie, userMovies[ind], grid2)\n",
    "        if (user == 4530 and movie == 668 and math.isnan(sim)):\n",
    "            print userMovies[ind]\n",
    "        simList[userMovies[ind]] = sim\n",
    "    simListSort = np.argsort(simList)[::-1]\n",
    "    #if (user == 4530 and movie == 668):\n",
    "           # print simList\n",
    "           # print simListSort\n",
    "    top = 0\n",
    "    bot = 0\n",
    "    for ind in range(K):\n",
    "        thisSim = simList[simListSort[ind]]\n",
    "        top += thisSim * grid[simListSort[ind]][user]\n",
    "        bot += np.abs(thisSim)\n",
    "    rating = top / bot\n",
    "    return rating\n"
   ]
  },
  {
   "cell_type": "code",
   "execution_count": 16,
   "metadata": {
    "collapsed": false
   },
   "outputs": [
    {
     "name": "stdout",
     "output_type": "stream",
     "text": [
      "[0.04250694740499057, 0.1062434670708626, 0.15645374449338761, 0.2075864083495162, 0.24918123253280555, 0.3126782246222547, 0.352549816051669, 0.4418930494371125, 0.4992523644861194, 0.5300766977720969, 0.5939289943631365, 0.6551320401686326, 0.7631155953452435, 0.7937716909036453, 0.8812161906115307, 0.8901829614892677, 0.9626807114774237, 1.0120051552903078, 1.0736357428197152, 1.1505379107258478, 1.2598920389054684, 1.6164098100516184, 1.486845049184467, 1.4622291696271987, 1.6820502739487893, 1.4829147916567762, 1.6027283564650587, 1.5536598613677142, 1.681069505628966, 1.729096995247346, 1.9611848483412815, 1.8249408286359539, 1.846520376423041, 1.816125203290585, 1.8914796393665256, 2.0158416623245556, 1.9719259706630055, 2.038239819683258, 2.1788460991900136, 2.238283833072819, 2.3262633619124244, 2.2786830325423124, 2.3614765209290454, 2.4868392859962114, 2.556245124974339, 2.8949665656135037, 2.9960175974610594, 2.9291232059115826, 2.7817697329986, 2.7235885320449142, 2.863285846241297, 2.8199128021726665, 2.8985597161037733, 3.0340002447381265, 3.173628400675807, 3.0532416354823, 3.1856450823425346, 3.2761683482544415, 3.594120837478113, 3.71484838078095]\n"
     ]
    }
   ],
   "source": [
    "import copy\n",
    "import time\n",
    "\n",
    "movieID = 1\n",
    "userID = 2\n",
    "\n",
    "times = []\n",
    "for i in range(100, 6001, 100):\n",
    "    trainSet = dataArr[:,0:i]\n",
    "    tempArr = copy.copy(dataArr)\n",
    "    tempArr[movieID][userID] = 0\n",
    "    start = time.clock()\n",
    "    for n in range(0,10):\n",
    "        knn(userID, movieID, 32, tempArr, trainSet)\n",
    "    end = time.clock()\n",
    "    times.append((end - start) / 10)\n",
    "    \n",
    "print times\n",
    " \n",
    " "
   ]
  },
  {
   "cell_type": "markdown",
   "metadata": {},
   "source": [
    "#[0.04250694740499057, 0.1062434670708626, 0.15645374449338761, 0.2075864083495162, 0.24918123253280555, 0.3126782246222547, 0.352549816051669, 0.4418930494371125, 0.4992523644861194, 0.5300766977720969, 0.5939289943631365, 0.6551320401686326, 0.7631155953452435, 0.7937716909036453, 0.8812161906115307, 0.8901829614892677, 0.9626807114774237, 1.0120051552903078, 1.0736357428197152, 1.1505379107258478, 1.2598920389054684, 1.6164098100516184, 1.486845049184467, 1.4622291696271987, 1.6820502739487893, 1.4829147916567762, 1.6027283564650587, 1.5536598613677142, 1.681069505628966, 1.729096995247346, 1.9611848483412815, 1.8249408286359539, 1.846520376423041, 1.816125203290585, 1.8914796393665256, 2.0158416623245556, 1.9719259706630055, 2.038239819683258, 2.1788460991900136, 2.238283833072819, 2.3262633619124244, 2.2786830325423124, 2.3614765209290454, 2.4868392859962114, 2.556245124974339, 2.8949665656135037, 2.9960175974610594, 2.9291232059115826, 2.7817697329986, 2.7235885320449142, 2.863285846241297, 2.8199128021726665, 2.8985597161037733, 3.0340002447381265, 3.173628400675807, 3.0532416354823, 3.1856450823425346, 3.2761683482544415, 3.594120837478113, 3.71484838078095]\n",
    "\n",
    "#[0.06206128716466992, 0.15326200401054849, 0.21224073547755323, 0.42201747114459065, 0.5732626750666896, 0.7451282506749977, 0.8068032068589673, 0.8955872925646873, 0.8908312806909635, 0.9069853393964877, 0.9920368133516604, 1.3668735493344684, 1.554850749214438, 1.6283021489586644, 1.6440856662403802, 1.8649355391344216, 2.0673813414807682, 2.031712535329143, 2.2177812514802553, 2.4160481502534368, 2.433629782262005, 2.3592178248306483, 2.4328639098100213, 2.502831225427508, 2.7384847157090464, 2.809994078916179, 3.034091389954665, 3.2060157027141942, 3.0573211043215904, 3.31572043800229]"
   ]
  },
  {
   "cell_type": "code",
   "execution_count": 18,
   "metadata": {
    "collapsed": false
   },
   "outputs": [
    {
     "name": "stdout",
     "output_type": "stream",
     "text": [
      "[0.06206128716466992, 0.15326200401054849, 0.21224073547755323, 0.42201747114459065, 0.5732626750666896, 0.7451282506749977, 0.8068032068589673, 0.8955872925646873, 0.8908312806909635, 0.9069853393964877, 0.9920368133516604, 1.3668735493344684, 1.554850749214438, 1.6283021489586644, 1.6440856662403802, 1.8649355391344216, 2.0673813414807682, 2.031712535329143, 2.2177812514802553, 2.4160481502534368, 2.433629782262005, 2.3592178248306483, 2.4328639098100213, 2.502831225427508, 2.7384847157090464, 2.809994078916179, 3.034091389954665, 3.2060157027141942, 3.0573211043215904, 3.31572043800229]\n"
     ]
    }
   ],
   "source": [
    "times2 = []\n",
    "for i in range(100, 3001, 100):\n",
    "    trainSet = dataArr[0:i, :]\n",
    "    tempArr = copy.copy(trainSet)\n",
    "    tempArr[movieID][userID] = 0\n",
    "    start = time.clock()\n",
    "    for n in range(0,10):\n",
    "        knn(userID, movieID, 32, tempArr, trainSet)\n",
    "    end = time.clock()\n",
    "    times2.append((end - start) / 10)\n",
    "    \n",
    "print times2"
   ]
  },
  {
   "cell_type": "code",
   "execution_count": 14,
   "metadata": {
    "collapsed": false
   },
   "outputs": [
    {
     "name": "stdout",
     "output_type": "stream",
     "text": [
      "i:  6000  time:  4.21630697413\n",
      "i:  6100  time:  3.90096280732\n",
      "i:  6200  time:  4.10606551637\n",
      "i:  6300  time:  4.0370687331\n",
      "i:  6400  time:  4.25037371892\n",
      "i:  6500  time:  3.7153357194\n",
      "i:  6600  time:  3.83828855483\n",
      "i:  6700  time:  3.88830471938\n",
      "i:  6800  time:  3.79098108767\n",
      "i:  6900  time:  3.59731869747\n",
      "i:  7000  time:  3.6686918081\n",
      "i:  7100  time:  3.93254743477\n"
     ]
    },
    {
     "ename": "KeyboardInterrupt",
     "evalue": "",
     "output_type": "error",
     "traceback": [
      "\u001b[0;31m---------------------------------------------------------------------------\u001b[0m",
      "\u001b[0;31mKeyboardInterrupt\u001b[0m                         Traceback (most recent call last)",
      "\u001b[0;32m<ipython-input-14-363be8567cd8>\u001b[0m in \u001b[0;36m<module>\u001b[0;34m()\u001b[0m\n\u001b[1;32m      9\u001b[0m     \u001b[0mtempArr\u001b[0m\u001b[1;33m[\u001b[0m\u001b[0mmovieID\u001b[0m\u001b[1;33m]\u001b[0m\u001b[1;33m[\u001b[0m\u001b[0muserID\u001b[0m\u001b[1;33m]\u001b[0m \u001b[1;33m=\u001b[0m \u001b[1;36m0\u001b[0m\u001b[1;33m\u001b[0m\u001b[0m\n\u001b[1;32m     10\u001b[0m     \u001b[0mstart\u001b[0m \u001b[1;33m=\u001b[0m \u001b[0mtime\u001b[0m\u001b[1;33m.\u001b[0m\u001b[0mclock\u001b[0m\u001b[1;33m(\u001b[0m\u001b[1;33m)\u001b[0m\u001b[1;33m\u001b[0m\u001b[0m\n\u001b[0;32m---> 11\u001b[0;31m     \u001b[0mknn\u001b[0m\u001b[1;33m(\u001b[0m\u001b[0muserID\u001b[0m\u001b[1;33m,\u001b[0m \u001b[0mmovieID\u001b[0m\u001b[1;33m,\u001b[0m \u001b[1;36m32\u001b[0m\u001b[1;33m,\u001b[0m \u001b[0mtempArr\u001b[0m\u001b[1;33m,\u001b[0m \u001b[0mtrainSet\u001b[0m\u001b[1;33m)\u001b[0m\u001b[1;33m\u001b[0m\u001b[0m\n\u001b[0m\u001b[1;32m     12\u001b[0m     \u001b[0mend\u001b[0m \u001b[1;33m=\u001b[0m \u001b[0mtime\u001b[0m\u001b[1;33m.\u001b[0m\u001b[0mclock\u001b[0m\u001b[1;33m(\u001b[0m\u001b[1;33m)\u001b[0m\u001b[1;33m\u001b[0m\u001b[0m\n\u001b[1;32m     13\u001b[0m     \u001b[0mtimes3\u001b[0m\u001b[1;33m.\u001b[0m\u001b[0mappend\u001b[0m\u001b[1;33m(\u001b[0m\u001b[0mend\u001b[0m \u001b[1;33m-\u001b[0m \u001b[0mstart\u001b[0m\u001b[1;33m)\u001b[0m\u001b[1;33m\u001b[0m\u001b[0m\n",
      "\u001b[0;32m<ipython-input-6-143466ec7cef>\u001b[0m in \u001b[0;36mknn\u001b[0;34m(user, movie, K, grid, grid2)\u001b[0m\n\u001b[1;32m     43\u001b[0m     \u001b[0msimList\u001b[0m \u001b[1;33m=\u001b[0m \u001b[1;33m[\u001b[0m\u001b[1;36m0\u001b[0m\u001b[1;33m]\u001b[0m \u001b[1;33m*\u001b[0m \u001b[0mlen\u001b[0m\u001b[1;33m(\u001b[0m\u001b[0mgrid\u001b[0m\u001b[1;33m)\u001b[0m\u001b[1;33m\u001b[0m\u001b[0m\n\u001b[1;32m     44\u001b[0m     \u001b[1;32mfor\u001b[0m \u001b[0mind\u001b[0m \u001b[1;32min\u001b[0m \u001b[0mrange\u001b[0m\u001b[1;33m(\u001b[0m\u001b[0mlen\u001b[0m\u001b[1;33m(\u001b[0m\u001b[0muserMovies\u001b[0m\u001b[1;33m)\u001b[0m\u001b[1;33m)\u001b[0m\u001b[1;33m:\u001b[0m\u001b[1;33m\u001b[0m\u001b[0m\n\u001b[0;32m---> 45\u001b[0;31m         \u001b[0msim\u001b[0m \u001b[1;33m=\u001b[0m \u001b[0mfindSimilarity\u001b[0m\u001b[1;33m(\u001b[0m\u001b[0mmovie\u001b[0m\u001b[1;33m,\u001b[0m \u001b[0muserMovies\u001b[0m\u001b[1;33m[\u001b[0m\u001b[0mind\u001b[0m\u001b[1;33m]\u001b[0m\u001b[1;33m,\u001b[0m \u001b[0mgrid2\u001b[0m\u001b[1;33m)\u001b[0m\u001b[1;33m\u001b[0m\u001b[0m\n\u001b[0m\u001b[1;32m     46\u001b[0m         \u001b[1;32mif\u001b[0m \u001b[1;33m(\u001b[0m\u001b[0muser\u001b[0m \u001b[1;33m==\u001b[0m \u001b[1;36m4530\u001b[0m \u001b[1;32mand\u001b[0m \u001b[0mmovie\u001b[0m \u001b[1;33m==\u001b[0m \u001b[1;36m668\u001b[0m \u001b[1;32mand\u001b[0m \u001b[0mmath\u001b[0m\u001b[1;33m.\u001b[0m\u001b[0misnan\u001b[0m\u001b[1;33m(\u001b[0m\u001b[0msim\u001b[0m\u001b[1;33m)\u001b[0m\u001b[1;33m)\u001b[0m\u001b[1;33m:\u001b[0m\u001b[1;33m\u001b[0m\u001b[0m\n\u001b[1;32m     47\u001b[0m             \u001b[1;32mprint\u001b[0m \u001b[0muserMovies\u001b[0m\u001b[1;33m[\u001b[0m\u001b[0mind\u001b[0m\u001b[1;33m]\u001b[0m\u001b[1;33m\u001b[0m\u001b[0m\n",
      "\u001b[0;32m<ipython-input-6-143466ec7cef>\u001b[0m in \u001b[0;36mfindSimilarity\u001b[0;34m(movie1, movie2, grid)\u001b[0m\n\u001b[1;32m     19\u001b[0m         \u001b[0mdifab\u001b[0m \u001b[1;33m+=\u001b[0m \u001b[1;33m(\u001b[0m\u001b[0mrating1\u001b[0m \u001b[1;33m-\u001b[0m \u001b[0mavg\u001b[0m\u001b[1;33m)\u001b[0m \u001b[1;33m*\u001b[0m \u001b[1;33m(\u001b[0m\u001b[0mrating2\u001b[0m \u001b[1;33m-\u001b[0m \u001b[0mavg\u001b[0m\u001b[1;33m)\u001b[0m\u001b[1;33m\u001b[0m\u001b[0m\n\u001b[1;32m     20\u001b[0m         \u001b[0mdifas\u001b[0m \u001b[1;33m+=\u001b[0m \u001b[0mnp\u001b[0m\u001b[1;33m.\u001b[0m\u001b[0mpower\u001b[0m\u001b[1;33m(\u001b[0m\u001b[0mrating1\u001b[0m \u001b[1;33m-\u001b[0m \u001b[0mavg\u001b[0m\u001b[1;33m,\u001b[0m \u001b[1;36m2\u001b[0m\u001b[1;33m)\u001b[0m\u001b[1;33m\u001b[0m\u001b[0m\n\u001b[0;32m---> 21\u001b[0;31m         \u001b[0mdifbs\u001b[0m \u001b[1;33m+=\u001b[0m \u001b[0mnp\u001b[0m\u001b[1;33m.\u001b[0m\u001b[0mpower\u001b[0m\u001b[1;33m(\u001b[0m\u001b[0mrating2\u001b[0m \u001b[1;33m-\u001b[0m \u001b[0mavg\u001b[0m\u001b[1;33m,\u001b[0m \u001b[1;36m2\u001b[0m\u001b[1;33m)\u001b[0m\u001b[1;33m\u001b[0m\u001b[0m\n\u001b[0m\u001b[1;32m     22\u001b[0m     \u001b[1;32mif\u001b[0m \u001b[1;33m(\u001b[0m\u001b[0mdifas\u001b[0m \u001b[1;33m==\u001b[0m \u001b[1;36m0\u001b[0m \u001b[1;32mor\u001b[0m \u001b[0mdifbs\u001b[0m \u001b[1;33m==\u001b[0m \u001b[1;36m0\u001b[0m\u001b[1;33m)\u001b[0m\u001b[1;33m:\u001b[0m\u001b[1;33m\u001b[0m\u001b[0m\n\u001b[1;32m     23\u001b[0m         \u001b[1;32mreturn\u001b[0m \u001b[1;36m0\u001b[0m\u001b[1;33m\u001b[0m\u001b[0m\n",
      "\u001b[0;31mKeyboardInterrupt\u001b[0m: "
     ]
    }
   ],
   "source": [
    "import copy\n",
    "import time\n",
    "movieID = 1\n",
    "userID = 2\n",
    "times3 = []\n",
    "for i in range(6000, 9001, 100):\n",
    "    trainSet = dataArr[0:i, 0:i]\n",
    "    tempArr = copy.copy(trainSet)\n",
    "    tempArr[movieID][userID] = 0\n",
    "    start = time.clock()\n",
    "    knn(userID, movieID, 32, tempArr, trainSet)\n",
    "    end = time.clock()\n",
    "    times3.append(end - start)\n",
    "    print 'i: ', i, ' time: ', end - start\n",
    "print times3"
   ]
  },
  {
   "cell_type": "code",
   "execution_count": 3,
   "metadata": {
    "collapsed": false
   },
   "outputs": [
    {
     "data": {
      "image/png": "[encoded data removed]",
      "text/plain": [
       "<matplotlib.figure.Figure at 0x9e51c50>"
      ]
     },
     "metadata": {},
     "output_type": "display_data"
    }
   ],
   "source": [
    "%matplotlib inline\n",
    "import pandas as pd\n",
    "import numpy as np\n",
    "import matplotlib.pyplot as plt\n",
    "times = [0.04250694740499057, 0.1062434670708626, 0.15645374449338761, 0.2075864083495162, \n",
    "         0.24918123253280555, 0.3126782246222547, 0.352549816051669, 0.4418930494371125, \n",
    "         0.4992523644861194, 0.5300766977720969, 0.5939289943631365, 0.6551320401686326, \n",
    "         0.7631155953452435, 0.7937716909036453, 0.8812161906115307, 0.8901829614892677, \n",
    "         0.9626807114774237, 1.0120051552903078, 1.0736357428197152, 1.1505379107258478, \n",
    "         1.2598920389054684, 1.6164098100516184, 1.486845049184467, 1.4622291696271987, \n",
    "         1.6820502739487893, 1.4829147916567762, 1.6027283564650587, 1.5536598613677142, \n",
    "         1.681069505628966, 1.729096995247346, 1.9611848483412815, 1.8249408286359539, \n",
    "         1.846520376423041, 1.816125203290585, 1.8914796393665256, 2.0158416623245556, \n",
    "         1.9719259706630055, 2.038239819683258, 2.1788460991900136, 2.238283833072819, \n",
    "         2.3262633619124244, 2.2786830325423124, 2.3614765209290454, 2.4868392859962114, \n",
    "         2.556245124974339, 2.8949665656135037, 2.9960175974610594, 2.9291232059115826, \n",
    "         2.7817697329986, 2.7235885320449142, 2.863285846241297, 2.8199128021726665, \n",
    "         2.8985597161037733, 3.0340002447381265, 3.173628400675807, 3.0532416354823, \n",
    "         3.1856450823425346, 3.2761683482544415, 3.594120837478113, 3.71484838078095]\n",
    "\n",
    "times2 = [0.06206128716466992, 0.15326200401054849, 0.21224073547755323, 0.42201747114459065, \n",
    "          0.5732626750666896, 0.7451282506749977, 0.8068032068589673, 0.8955872925646873, \n",
    "          0.8908312806909635, 0.9069853393964877, 0.9920368133516604, 1.3668735493344684, \n",
    "          1.554850749214438, 1.6283021489586644, 1.6440856662403802, 1.8649355391344216, \n",
    "          2.0673813414807682, 2.031712535329143, 2.2177812514802553, 2.4160481502534368, \n",
    "          2.433629782262005, 2.3592178248306483, 2.4328639098100213, 2.502831225427508, \n",
    "          2.7384847157090464, 2.809994078916179, 3.034091389954665, 3.2060157027141942, \n",
    "          3.0573211043215904, 3.31572043800229]\n",
    "\n",
    "\n",
    "plt.plot(range(100, 6001, 100), times, 'o')\n",
    "plt.ylabel('Time')\n",
    "plt.xlabel('size')\n",
    "plt.title('Users increase')\n",
    "plt.show()"
   ]
  },
  {
   "cell_type": "code",
   "execution_count": 4,
   "metadata": {
    "collapsed": false
   },
   "outputs": [
    {
     "data": {
      "image/png": "[encoded data removed]",
      "text/plain": [
       "<matplotlib.figure.Figure at 0x9ed4940>"
      ]
     },
     "metadata": {},
     "output_type": "display_data"
    }
   ],
   "source": [
    "plt.plot(range(100, 3001, 100), times2, 'o')\n",
    "plt.ylabel('Time')\n",
    "plt.xlabel('size')\n",
    "plt.title('Movies increase')\n",
    "plt.show()"
   ]
  },
  {
   "cell_type": "code",
   "execution_count": 15,
   "metadata": {
    "collapsed": false
   },
   "outputs": [
    {
     "data": {
      "image/png": "[encoded data removed]",
      "text/plain": [
       "<matplotlib.figure.Figure at 0x174c2160>"
      ]
     },
     "metadata": {},
     "output_type": "display_data"
    }
   ],
   "source": [
    "times3 = [0.0009355308703433707, 0.008205039945586634, 0.011004527258883456, \n",
    " 0.03724083919882304, 0.04386100300751394, 0.06540623947774549, \n",
    " 0.09764968592610757, 0.14844980166350297, 0.12981102671157885, \n",
    " 0.14738321752355432, 0.22182384308976566, 0.2331575824777019, \n",
    " 0.3527555331519352, 0.3849997690778224, 0.42584023106428504, \n",
    " 0.5916395908769516, 0.5526690064148951, 0.6891645393536763, \n",
    " 0.7531540614079333, 0.8833037739788949, 0.8870727396962295, \n",
    " 0.9273321462222839, 1.039989799950348, 1.0508731424087117, \n",
    " 1.060541478951933, 1.1573464239233857, 1.247539099861413, \n",
    " 1.2838104606561842, 1.3498167030550121, 1.383103444056232, 1.5346807609458182, \n",
    " 1.603700044329159, 1.6891325655138019, 2.0136761192126755, 1.8559669303653124, \n",
    " 2.0074088518588837, 2.2090220702390297, 2.115970301434359, 2.2672961697313525,\n",
    " 2.278573856214834, 2.402465380423564, 2.470960450728512, 2.5151636922443004, \n",
    " 2.592183540893558, 2.6570667515091912, 2.664115996354198, 2.744146912294184, \n",
    " 2.7223561483128265, 3.064781762753327, 2.9050621693816225, 3.0376411043053793,\n",
    " 3.3886846554384533, 3.2835653278838492, 3.2132698540769127, 3.424641804177213,\n",
    " 3.356785815930948, 3.2977332915962734, 4.267324590922328, 4.442009915048288, 3.564332352670675]\n",
    "\n",
    "plt.plot(range(100, 6001, 100), times3, 'o')\n",
    "plt.ylabel('Time')\n",
    "plt.xlabel('size')\n",
    "plt.title('KNN Both increase')\n",
    "plt.show()"
   ]
  },
  {
   "cell_type": "code",
   "execution_count": null,
   "metadata": {
    "collapsed": true
   },
   "outputs": [],
   "source": []
  }
 ],
 "metadata": {
  "kernelspec": {
   "display_name": "Python [conda root]",
   "language": "python",
   "name": "conda-root-py"
  },
  "language_info": {
   "codemirror_mode": {
    "name": "ipython",
    "version": 2
   },
   "file_extension": ".py",
   "mimetype": "text/x-python",
   "name": "python",
   "nbconvert_exporter": "python",
   "pygments_lexer": "ipython2",
   "version": "2.7.12"
  }
 },
 "nbformat": 4,
 "nbformat_minor": 1
}
