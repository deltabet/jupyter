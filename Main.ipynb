{
 "cells": [
  {
   "cell_type": "code",
   "execution_count": 1,
   "metadata": {
    "collapsed": false
   },
   "outputs": [
    {
     "name": "stdout",
     "output_type": "stream",
     "text": [
      "   UserID Gender  Age  Occupation Zip-code\n",
      "0       1      F    1          10    48067\n",
      "1       2      M   56          16    70072\n",
      "2       3      M   25          15    55117\n",
      "3       4      M   45           7    02460\n",
      "4       5      M   25          20    55455\n",
      "   MovieID                               Title                        Genres\n",
      "0        1                    Toy Story (1995)   Animation|Children's|Comedy\n",
      "1        2                      Jumanji (1995)  Adventure|Children's|Fantasy\n",
      "2        3             Grumpier Old Men (1995)                Comedy|Romance\n",
      "3        4            Waiting to Exhale (1995)                  Comedy|Drama\n",
      "4        5  Father of the Bride Part II (1995)                        Comedy\n",
      "   UserID  MovieID  Rating  Timestamp\n",
      "0       1     1193       5  978300760\n",
      "1       1      661       3  978302109\n",
      "2       1      914       3  978301968\n",
      "3       1     3408       4  978300275\n",
      "4       1     2355       5  978824291\n"
     ]
    }
   ],
   "source": [
    "import pandas as pd\n",
    "import numpy as np\n",
    "\n",
    "users_df = pd.read_csv(\"users.csv\")\n",
    "movies_df = pd.read_csv(\"movies.csv\")\n",
    "ratings_df = pd.read_csv(\"ratings.csv\")\\\n",
    "\n",
    "print users_df.head()\n",
    "print movies_df.head()\n",
    "print ratings_df.head()"
   ]
  },
  {
   "cell_type": "code",
   "execution_count": 3,
   "metadata": {
    "collapsed": false,
    "scrolled": true
   },
   "outputs": [
    {
     "name": "stdout",
     "output_type": "stream",
     "text": [
      "(6040, 5)\n"
     ]
    },
    {
     "ename": "KeyboardInterrupt",
     "evalue": "",
     "output_type": "error",
     "traceback": [
      "\u001b[0;31m---------------------------------------------------------------------------\u001b[0m",
      "\u001b[0;31mKeyboardInterrupt\u001b[0m                         Traceback (most recent call last)",
      "\u001b[0;32m<ipython-input-3-3e43ce9eb132>\u001b[0m in \u001b[0;36m<module>\u001b[0;34m()\u001b[0m\n\u001b[1;32m      7\u001b[0m \u001b[0mhist\u001b[0m \u001b[1;33m=\u001b[0m \u001b[1;33m[\u001b[0m\u001b[1;33m]\u001b[0m\u001b[1;33m\u001b[0m\u001b[0m\n\u001b[1;32m      8\u001b[0m \u001b[0musers\u001b[0m \u001b[1;33m=\u001b[0m \u001b[0mpd\u001b[0m\u001b[1;33m.\u001b[0m\u001b[0mDataFrame\u001b[0m\u001b[1;33m(\u001b[0m\u001b[0mratings_df\u001b[0m\u001b[1;33m[\u001b[0m\u001b[1;34m'UserID'\u001b[0m\u001b[1;33m]\u001b[0m\u001b[1;33m)\u001b[0m\u001b[1;33m\u001b[0m\u001b[0m\n\u001b[0;32m----> 9\u001b[0;31m \u001b[1;32mfor\u001b[0m \u001b[0mind\u001b[0m\u001b[1;33m,\u001b[0m \u001b[0mrating\u001b[0m \u001b[1;32min\u001b[0m \u001b[0musers\u001b[0m\u001b[1;33m.\u001b[0m\u001b[0miterrows\u001b[0m\u001b[1;33m(\u001b[0m\u001b[1;33m)\u001b[0m\u001b[1;33m:\u001b[0m\u001b[1;33m\u001b[0m\u001b[0m\n\u001b[0m\u001b[1;32m     10\u001b[0m     \u001b[1;32mif\u001b[0m \u001b[1;33m(\u001b[0m\u001b[0mrating\u001b[0m\u001b[1;33m.\u001b[0m\u001b[0mitem\u001b[0m\u001b[1;33m(\u001b[0m\u001b[1;33m)\u001b[0m \u001b[1;33m!=\u001b[0m \u001b[0mcurUser\u001b[0m\u001b[1;33m)\u001b[0m\u001b[1;33m:\u001b[0m\u001b[1;33m\u001b[0m\u001b[0m\n\u001b[1;32m     11\u001b[0m         \u001b[0mhist\u001b[0m\u001b[1;33m.\u001b[0m\u001b[0mappend\u001b[0m\u001b[1;33m(\u001b[0m\u001b[0mcount\u001b[0m\u001b[1;33m)\u001b[0m\u001b[1;33m\u001b[0m\u001b[0m\n",
      "\u001b[0;32mC:\\Users\\Mobremius\\Anaconda2\\lib\\site-packages\\pandas\\core\\frame.pyc\u001b[0m in \u001b[0;36miterrows\u001b[0;34m(self)\u001b[0m\n\u001b[1;32m    654\u001b[0m         \u001b[0mcolumns\u001b[0m \u001b[1;33m=\u001b[0m \u001b[0mself\u001b[0m\u001b[1;33m.\u001b[0m\u001b[0mcolumns\u001b[0m\u001b[1;33m\u001b[0m\u001b[0m\n\u001b[1;32m    655\u001b[0m         \u001b[1;32mfor\u001b[0m \u001b[0mk\u001b[0m\u001b[1;33m,\u001b[0m \u001b[0mv\u001b[0m \u001b[1;32min\u001b[0m \u001b[0mzip\u001b[0m\u001b[1;33m(\u001b[0m\u001b[0mself\u001b[0m\u001b[1;33m.\u001b[0m\u001b[0mindex\u001b[0m\u001b[1;33m,\u001b[0m \u001b[0mself\u001b[0m\u001b[1;33m.\u001b[0m\u001b[0mvalues\u001b[0m\u001b[1;33m)\u001b[0m\u001b[1;33m:\u001b[0m\u001b[1;33m\u001b[0m\u001b[0m\n\u001b[0;32m--> 656\u001b[0;31m             \u001b[0ms\u001b[0m \u001b[1;33m=\u001b[0m \u001b[0mSeries\u001b[0m\u001b[1;33m(\u001b[0m\u001b[0mv\u001b[0m\u001b[1;33m,\u001b[0m \u001b[0mindex\u001b[0m\u001b[1;33m=\u001b[0m\u001b[0mcolumns\u001b[0m\u001b[1;33m,\u001b[0m \u001b[0mname\u001b[0m\u001b[1;33m=\u001b[0m\u001b[0mk\u001b[0m\u001b[1;33m)\u001b[0m\u001b[1;33m\u001b[0m\u001b[0m\n\u001b[0m\u001b[1;32m    657\u001b[0m             \u001b[1;32myield\u001b[0m \u001b[0mk\u001b[0m\u001b[1;33m,\u001b[0m \u001b[0ms\u001b[0m\u001b[1;33m\u001b[0m\u001b[0m\n\u001b[1;32m    658\u001b[0m \u001b[1;33m\u001b[0m\u001b[0m\n",
      "\u001b[0;32mC:\\Users\\Mobremius\\Anaconda2\\lib\\site-packages\\pandas\\core\\series.pyc\u001b[0m in \u001b[0;36m__init__\u001b[0;34m(self, data, index, dtype, name, copy, fastpath)\u001b[0m\n\u001b[1;32m    225\u001b[0m             \u001b[1;32melse\u001b[0m\u001b[1;33m:\u001b[0m\u001b[1;33m\u001b[0m\u001b[0m\n\u001b[1;32m    226\u001b[0m                 data = _sanitize_array(data, index, dtype, copy,\n\u001b[0;32m--> 227\u001b[0;31m                                        raise_cast_failure=True)\n\u001b[0m\u001b[1;32m    228\u001b[0m \u001b[1;33m\u001b[0m\u001b[0m\n\u001b[1;32m    229\u001b[0m                 \u001b[0mdata\u001b[0m \u001b[1;33m=\u001b[0m \u001b[0mSingleBlockManager\u001b[0m\u001b[1;33m(\u001b[0m\u001b[0mdata\u001b[0m\u001b[1;33m,\u001b[0m \u001b[0mindex\u001b[0m\u001b[1;33m,\u001b[0m \u001b[0mfastpath\u001b[0m\u001b[1;33m=\u001b[0m\u001b[0mTrue\u001b[0m\u001b[1;33m)\u001b[0m\u001b[1;33m\u001b[0m\u001b[0m\n",
      "\u001b[0;32mC:\\Users\\Mobremius\\Anaconda2\\lib\\site-packages\\pandas\\core\\series.pyc\u001b[0m in \u001b[0;36m_sanitize_array\u001b[0;34m(data, index, dtype, copy, raise_cast_failure)\u001b[0m\n\u001b[1;32m   2843\u001b[0m             \u001b[0msubarr\u001b[0m \u001b[1;33m=\u001b[0m \u001b[0m_sanitize_index\u001b[0m\u001b[1;33m(\u001b[0m\u001b[0mdata\u001b[0m\u001b[1;33m,\u001b[0m \u001b[0mindex\u001b[0m\u001b[1;33m,\u001b[0m \u001b[0mcopy\u001b[0m\u001b[1;33m=\u001b[0m\u001b[0mTrue\u001b[0m\u001b[1;33m)\u001b[0m\u001b[1;33m\u001b[0m\u001b[0m\n\u001b[1;32m   2844\u001b[0m         \u001b[1;32melse\u001b[0m\u001b[1;33m:\u001b[0m\u001b[1;33m\u001b[0m\u001b[0m\n\u001b[0;32m-> 2845\u001b[0;31m             \u001b[0msubarr\u001b[0m \u001b[1;33m=\u001b[0m \u001b[0m_try_cast\u001b[0m\u001b[1;33m(\u001b[0m\u001b[0mdata\u001b[0m\u001b[1;33m,\u001b[0m \u001b[0mTrue\u001b[0m\u001b[1;33m)\u001b[0m\u001b[1;33m\u001b[0m\u001b[0m\n\u001b[0m\u001b[1;32m   2846\u001b[0m \u001b[1;33m\u001b[0m\u001b[0m\n\u001b[1;32m   2847\u001b[0m         \u001b[1;32mif\u001b[0m \u001b[0mcopy\u001b[0m\u001b[1;33m:\u001b[0m\u001b[1;33m\u001b[0m\u001b[0m\n",
      "\u001b[0;32mC:\\Users\\Mobremius\\Anaconda2\\lib\\site-packages\\pandas\\core\\series.pyc\u001b[0m in \u001b[0;36m_try_cast\u001b[0;34m(arr, take_fast_path)\u001b[0m\n\u001b[1;32m   2811\u001b[0m         \u001b[1;32mtry\u001b[0m\u001b[1;33m:\u001b[0m\u001b[1;33m\u001b[0m\u001b[0m\n\u001b[1;32m   2812\u001b[0m             \u001b[0msubarr\u001b[0m \u001b[1;33m=\u001b[0m \u001b[0m_possibly_cast_to_datetime\u001b[0m\u001b[1;33m(\u001b[0m\u001b[0marr\u001b[0m\u001b[1;33m,\u001b[0m \u001b[0mdtype\u001b[0m\u001b[1;33m)\u001b[0m\u001b[1;33m\u001b[0m\u001b[0m\n\u001b[0;32m-> 2813\u001b[0;31m             \u001b[1;32mif\u001b[0m \u001b[1;32mnot\u001b[0m \u001b[0mis_extension_type\u001b[0m\u001b[1;33m(\u001b[0m\u001b[0msubarr\u001b[0m\u001b[1;33m)\u001b[0m\u001b[1;33m:\u001b[0m\u001b[1;33m\u001b[0m\u001b[0m\n\u001b[0m\u001b[1;32m   2814\u001b[0m                 \u001b[0msubarr\u001b[0m \u001b[1;33m=\u001b[0m \u001b[0mnp\u001b[0m\u001b[1;33m.\u001b[0m\u001b[0marray\u001b[0m\u001b[1;33m(\u001b[0m\u001b[0msubarr\u001b[0m\u001b[1;33m,\u001b[0m \u001b[0mdtype\u001b[0m\u001b[1;33m=\u001b[0m\u001b[0mdtype\u001b[0m\u001b[1;33m,\u001b[0m \u001b[0mcopy\u001b[0m\u001b[1;33m=\u001b[0m\u001b[0mcopy\u001b[0m\u001b[1;33m)\u001b[0m\u001b[1;33m\u001b[0m\u001b[0m\n\u001b[1;32m   2815\u001b[0m         \u001b[1;32mexcept\u001b[0m \u001b[1;33m(\u001b[0m\u001b[0mValueError\u001b[0m\u001b[1;33m,\u001b[0m \u001b[0mTypeError\u001b[0m\u001b[1;33m)\u001b[0m\u001b[1;33m:\u001b[0m\u001b[1;33m\u001b[0m\u001b[0m\n",
      "\u001b[0;32mC:\\Users\\Mobremius\\Anaconda2\\lib\\site-packages\\pandas\\core\\common.pyc\u001b[0m in \u001b[0;36mis_extension_type\u001b[0;34m(value)\u001b[0m\n\u001b[1;32m   1724\u001b[0m     \u001b[1;32melif\u001b[0m \u001b[0mis_sparse\u001b[0m\u001b[1;33m(\u001b[0m\u001b[0mvalue\u001b[0m\u001b[1;33m)\u001b[0m\u001b[1;33m:\u001b[0m\u001b[1;33m\u001b[0m\u001b[0m\n\u001b[1;32m   1725\u001b[0m         \u001b[1;32mreturn\u001b[0m \u001b[0mTrue\u001b[0m\u001b[1;33m\u001b[0m\u001b[0m\n\u001b[0;32m-> 1726\u001b[0;31m     \u001b[1;32melif\u001b[0m \u001b[0mis_datetimetz\u001b[0m\u001b[1;33m(\u001b[0m\u001b[0mvalue\u001b[0m\u001b[1;33m)\u001b[0m\u001b[1;33m:\u001b[0m\u001b[1;33m\u001b[0m\u001b[0m\n\u001b[0m\u001b[1;32m   1727\u001b[0m         \u001b[1;32mreturn\u001b[0m \u001b[0mTrue\u001b[0m\u001b[1;33m\u001b[0m\u001b[0m\n\u001b[1;32m   1728\u001b[0m     \u001b[1;32mreturn\u001b[0m \u001b[0mFalse\u001b[0m\u001b[1;33m\u001b[0m\u001b[0m\n",
      "\u001b[0;32mC:\\Users\\Mobremius\\Anaconda2\\lib\\site-packages\\pandas\\core\\common.pyc\u001b[0m in \u001b[0;36mis_datetimetz\u001b[0;34m(array)\u001b[0m\n\u001b[1;32m   1712\u001b[0m     return ((isinstance(array, gt.ABCDatetimeIndex) and\n\u001b[1;32m   1713\u001b[0m              getattr(array, 'tz', None) is not None) or\n\u001b[0;32m-> 1714\u001b[0;31m             is_datetime64tz_dtype(array))\n\u001b[0m\u001b[1;32m   1715\u001b[0m \u001b[1;33m\u001b[0m\u001b[0m\n\u001b[1;32m   1716\u001b[0m \u001b[1;33m\u001b[0m\u001b[0m\n",
      "\u001b[0;32mC:\\Users\\Mobremius\\Anaconda2\\lib\\site-packages\\pandas\\core\\common.pyc\u001b[0m in \u001b[0;36mis_datetime64tz_dtype\u001b[0;34m(arr_or_dtype)\u001b[0m\n\u001b[1;32m   1574\u001b[0m \u001b[1;33m\u001b[0m\u001b[0m\n\u001b[1;32m   1575\u001b[0m \u001b[1;32mdef\u001b[0m \u001b[0mis_datetime64tz_dtype\u001b[0m\u001b[1;33m(\u001b[0m\u001b[0marr_or_dtype\u001b[0m\u001b[1;33m)\u001b[0m\u001b[1;33m:\u001b[0m\u001b[1;33m\u001b[0m\u001b[0m\n\u001b[0;32m-> 1576\u001b[0;31m     \u001b[1;32mreturn\u001b[0m \u001b[0mgt\u001b[0m\u001b[1;33m.\u001b[0m\u001b[0mDatetimeTZDtype\u001b[0m\u001b[1;33m.\u001b[0m\u001b[0mis_dtype\u001b[0m\u001b[1;33m(\u001b[0m\u001b[0marr_or_dtype\u001b[0m\u001b[1;33m)\u001b[0m\u001b[1;33m\u001b[0m\u001b[0m\n\u001b[0m\u001b[1;32m   1577\u001b[0m \u001b[1;33m\u001b[0m\u001b[0m\n\u001b[1;32m   1578\u001b[0m \u001b[1;33m\u001b[0m\u001b[0m\n",
      "\u001b[0;31mKeyboardInterrupt\u001b[0m: "
     ]
    }
   ],
   "source": [
    "%matplotlib inline\n",
    "import matplotlib.pyplot as plt\n",
    "print users_df.shape\n",
    "\n",
    "count = 0\n",
    "curUser = 1\n",
    "hist = []\n",
    "users = pd.DataFrame(ratings_df['UserID'])\n",
    "for ind, rating in users.iterrows():\n",
    "    if (rating.item() != curUser):\n",
    "        hist.append(count)\n",
    "        count = 0\n",
    "        curUser += 1\n",
    "    else:\n",
    "        count += 1\n",
    "        \n",
    "    \n",
    "        "
   ]
  },
  {
   "cell_type": "code",
   "execution_count": 54,
   "metadata": {
    "collapsed": false
   },
   "outputs": [
    {
     "data": {
      "text/plain": [
       "[<matplotlib.lines.Line2D at 0xb1bc240>]"
      ]
     },
     "execution_count": 54,
     "metadata": {},
     "output_type": "execute_result"
    },
    {
     "data": {
      "image/png": "[encoded data removed]",
      "text/plain": [
       "<matplotlib.figure.Figure at 0xa4c4898>"
      ]
     },
     "metadata": {},
     "output_type": "display_data"
    }
   ],
   "source": [
    "%matplotlib inline\n",
    "\n",
    "xHist = range(0, len(hist))\n",
    "plt.plot(xHist, hist)"
   ]
  },
  {
   "cell_type": "code",
   "execution_count": 84,
   "metadata": {
    "collapsed": false
   },
   "outputs": [
    {
     "name": "stdout",
     "output_type": "stream",
     "text": [
      "3\n"
     ]
    }
   ],
   "source": [
    "curUser = 1\n",
    "avgRating = []\n",
    "ratingCount = 0\n",
    "curRating = 0\n",
    "ratings = ratings_df['Rating']\n",
    "print(ratings[1])\n",
    "\n",
    "hist2 = pd.DataFrame(hist)\n",
    "for ind, numUserRatings in hist2.iterrows():\n",
    "    for ind2 in range(numUserRatings):\n",
    "        curRating += ratings[ratingCount]\n",
    "        ratingCount += 1\n",
    "        \n",
    "    avg = curRating / numUserRatings\n",
    "    avgRating.append(avg)\n",
    "    curUser += 1\n",
    "    curRating = 0\n",
    "    "
   ]
  },
  {
   "cell_type": "code",
   "execution_count": 85,
   "metadata": {
    "collapsed": false
   },
   "outputs": [
    {
     "name": "stdout",
     "output_type": "stream",
     "text": [
      "    Average\n",
      "0  4.188679\n",
      "1  3.703125\n",
      "2  3.900000\n",
      "3  4.100000\n",
      "4  3.187817\n",
      "   UserID Gender  Age  Occupation Zip-code   Average\n",
      "0       1      F    1          10    48067  4.188679\n",
      "1       2      M   56          16    70072  3.703125\n",
      "2       3      M   25          15    55117  3.900000\n",
      "3       4      M   45           7    02460  4.100000\n",
      "4       5      M   25          20    55455  3.187817\n"
     ]
    }
   ],
   "source": [
    "#del users_df['Average']\n",
    "#del users_df[0]\n",
    "avgRatingPD = pd.DataFrame(avgRating)\n",
    "avgRatingPD.columns = ['Average']\n",
    "print(avgRatingPD.head())\n",
    "users_df = pd.concat([users_df, avgRatingPD], axis=1)\n",
    "print users_df.head()"
   ]
  },
  {
   "cell_type": "code",
   "execution_count": 75,
   "metadata": {
    "collapsed": true
   },
   "outputs": [],
   "source": [
    "#users_df.to_csv('users_avg.csv')"
   ]
  },
  {
   "cell_type": "code",
   "execution_count": 2,
   "metadata": {
    "collapsed": false
   },
   "outputs": [
    {
     "name": "stderr",
     "output_type": "stream",
     "text": [
      "C:\\Users\\Mobremius\\Anaconda2\\lib\\site-packages\\sklearn\\cross_validation.py:44: DeprecationWarning: This module was deprecated in version 0.18 in favor of the model_selection module into which all the refactored classes and functions are moved. Also note that the interface of the new CV iterators are different from that of this module. This module will be removed in 0.20.\n",
      "  \"This module will be removed in 0.20.\", DeprecationWarning)\n"
     ]
    },
    {
     "name": "stdout",
     "output_type": "stream",
     "text": [
      "(1000209, 4)\n",
      "(6040, 5)\n",
      "(3883, 3)\n",
      "0\n"
     ]
    }
   ],
   "source": [
    "from sklearn.cross_validation import train_test_split\n",
    "\n",
    "#split data by users\n",
    "\n",
    "ratingsGrid = []\n",
    "for i in range(3954):\n",
    "    ratingsGrid.append([])\n",
    "    for j in range(6041):\n",
    "        ratingsGrid[i].append(0)\n",
    "\n",
    "     \n",
    "for ind, row in ratings_df.iterrows():\n",
    "    ratingsGrid[row['MovieID']][row['UserID']] = row['Rating']\n",
    "#arbitrary \n",
    "print ratings_df.shape\n",
    "print users_df.shape\n",
    "print movies_df.shape\n",
    "\n",
    "print ratingsGrid[0][0]"
   ]
  },
  {
   "cell_type": "code",
   "execution_count": 3,
   "metadata": {
    "collapsed": true
   },
   "outputs": [],
   "source": [
    "ratingsGridPD = pd.DataFrame(ratingsGrid)\n",
    "ratingsGridPD.to_csv('ratingGrid.csv')"
   ]
  },
  {
   "cell_type": "code",
   "execution_count": 151,
   "metadata": {
    "collapsed": false
   },
   "outputs": [
    {
     "name": "stdout",
     "output_type": "stream",
     "text": [
      "3.703125\n"
     ]
    },
    {
     "ename": "IndexError",
     "evalue": "list index out of range",
     "output_type": "error",
     "traceback": [
      "\u001b[0;31m---------------------------------------------------------------------------\u001b[0m",
      "\u001b[0;31mIndexError\u001b[0m                                Traceback (most recent call last)",
      "\u001b[0;32m<ipython-input-151-71361a7dd4df>\u001b[0m in \u001b[0;36m<module>\u001b[0;34m()\u001b[0m\n\u001b[1;32m      4\u001b[0m \u001b[1;32mprint\u001b[0m \u001b[0maverages\u001b[0m\u001b[1;33m[\u001b[0m\u001b[1;36m1\u001b[0m\u001b[1;33m]\u001b[0m\u001b[1;33m\u001b[0m\u001b[0m\n\u001b[1;32m      5\u001b[0m \u001b[1;33m\u001b[0m\u001b[0m\n\u001b[0;32m----> 6\u001b[0;31m \u001b[1;32mprint\u001b[0m \u001b[0mratingsGrid\u001b[0m\u001b[1;33m[\u001b[0m\u001b[1;36m3954\u001b[0m\u001b[1;33m]\u001b[0m\u001b[1;33m\u001b[0m\u001b[0m\n\u001b[0m\u001b[1;32m      7\u001b[0m \u001b[1;33m\u001b[0m\u001b[0m\n\u001b[1;32m      8\u001b[0m \u001b[1;33m\u001b[0m\u001b[0m\n",
      "\u001b[0;31mIndexError\u001b[0m: list index out of range"
     ]
    }
   ],
   "source": [
    "\n",
    "\n",
    "averages = users_df['Average']\n",
    "print averages[1]\n",
    "\n",
    "for ind, row in ratings_df.iterrows():\n",
    "    if(row)\n",
    "\n",
    "\n"
   ]
  },
  {
   "cell_type": "code",
   "execution_count": 170,
   "metadata": {
    "collapsed": false
   },
   "outputs": [
    {
     "name": "stdout",
     "output_type": "stream",
     "text": [
      "3.9\n",
      "(3953L, 6041L)\n"
     ]
    }
   ],
   "source": [
    "data = pd.read_csv(\"ratingsGrid.csv\")\n",
    "dataArr = data.as_matrix()\n",
    "dataArr = dataArr[:, 1:]\n",
    "users_df = pd.read_csv(\"users_avg.csv\")\n",
    "print users_df[\"Average\"][2]\n",
    "print dataArr.shape"
   ]
  },
  {
   "cell_type": "code",
   "execution_count": 167,
   "metadata": {
    "collapsed": false
   },
   "outputs": [],
   "source": [
    "import math\n",
    "\n",
    "\n",
    "def findSimilarity(movie1, movie2, grid):\n",
    "    users = []\n",
    "    ratings1 = grid[movie1]\n",
    "    ratings2 = grid[movie2]\n",
    "    for ind in range(len(ratings1)):\n",
    "        if(ratings1[ind] != 0 and ratings2[ind] != 0):\n",
    "            users.append(ind)\n",
    "    difab = 0\n",
    "    difas = 0\n",
    "    difbs = 0\n",
    "    for ind in range(len(users)):\n",
    "        userID = users[ind]\n",
    "        avg = users_df['Average'][userID - 1]\n",
    "        rating1 = grid[movie1][userID]\n",
    "        rating2 = grid[movie2][userID]\n",
    "        difab += (rating1 - avg) * (rating2 - avg)\n",
    "        difas += np.power(rating1 - avg, 2)\n",
    "        difbs += np.power(rating2 - avg, 2)\n",
    "    if (difas == 0 or difbs == 0):\n",
    "        return 0\n",
    "\n",
    "    sim = (difab) / (np.sqrt(difas * difbs))\n",
    "    return sim\n",
    "\n",
    "user = 1\n",
    "movie = 2\n",
    "K = 15\n",
    "\n",
    "def knn(user, movie, K, grid, grid2):\n",
    "    #all movies rated by user\n",
    "    userMovies = []\n",
    "    userRatings = []\n",
    "\n",
    "\n",
    "    for ind in range(len(grid)):\n",
    "        userRatings.append(grid[ind][user])\n",
    "\n",
    "\n",
    "    for ind in range(len(userRatings)):\n",
    "        if (userRatings[ind] != 0):\n",
    "            userMovies.append(ind)\n",
    "\n",
    "    simList = [0] * len(grid) \n",
    "    for ind in range(len(userMovies)):\n",
    "        sim = findSimilarity(movie, userMovies[ind], grid2)\n",
    "        if (user == 4530 and movie == 668 and math.isnan(sim)):\n",
    "            print userMovies[ind]\n",
    "        simList[userMovies[ind]] = sim\n",
    "    simListSort = np.argsort(simList)[::-1]\n",
    "    #if (user == 4530 and movie == 668):\n",
    "           # print simList\n",
    "           # print simListSort\n",
    "    top = 0\n",
    "    bot = 0\n",
    "    for ind in range(K):\n",
    "        thisSim = simList[simListSort[ind]]\n",
    "        top += thisSim * grid[simListSort[ind]][user]\n",
    "        bot += np.abs(thisSim)\n",
    "    rating = top / bot\n",
    "    return rating\n"
   ]
  },
  {
   "cell_type": "code",
   "execution_count": 158,
   "metadata": {
    "collapsed": false
   },
   "outputs": [
    {
     "name": "stdout",
     "output_type": "stream",
     "text": [
      "0\n"
     ]
    }
   ],
   "source": []
  },
  {
   "cell_type": "code",
   "execution_count": 168,
   "metadata": {
    "collapsed": false
   },
   "outputs": [
    {
     "name": "stdout",
     "output_type": "stream",
     "text": [
      "(3953L, 4027L)\n",
      "(3953L, 2014L)\n"
     ]
    }
   ],
   "source": [
    "#test, train\n",
    "trainArr = dataArr[:, 0:4027]\n",
    "testArr = dataArr[:, 4027:]\n",
    "print trainArr.shape\n",
    "print testArr.shape\n",
    "\n",
    "\n"
   ]
  },
  {
   "cell_type": "code",
   "execution_count": 103,
   "metadata": {
    "collapsed": false
   },
   "outputs": [
    {
     "name": "stdout",
     "output_type": "stream",
     "text": [
      "3.37539900229\n",
      "3.37539900229\n",
      "3.37903213829\n"
     ]
    }
   ],
   "source": [
    "tempTestArr = list(dataArr)\n",
    "tempTestArr[1][4029] = 0\n",
    "print knn(4030, 111, 6, tempTestArr, trainArr)\n",
    "print knn(4030, 111, 6, dataArr, trainArr)\n",
    "print knn(4030, 111, 6, dataArr, dataArr)"
   ]
  },
  {
   "cell_type": "code",
   "execution_count": 127,
   "metadata": {
    "collapsed": false
   },
   "outputs": [
    {
     "name": "stdout",
     "output_type": "stream",
     "text": [
      "2013\n"
     ]
    },
    {
     "ename": "KeyboardInterrupt",
     "evalue": "",
     "output_type": "error",
     "traceback": [
      "\u001b[0;31m---------------------------------------------------------------------------\u001b[0m",
      "\u001b[0;31mKeyboardInterrupt\u001b[0m                         Traceback (most recent call last)",
      "\u001b[0;32m<ipython-input-127-8e7b2feaef31>\u001b[0m in \u001b[0;36m<module>\u001b[0;34m()\u001b[0m\n\u001b[1;32m     30\u001b[0m     \u001b[1;32mfor\u001b[0m \u001b[0mmovieID\u001b[0m \u001b[1;32min\u001b[0m \u001b[0mrange\u001b[0m\u001b[1;33m(\u001b[0m\u001b[1;36m3953\u001b[0m\u001b[1;33m)\u001b[0m\u001b[1;33m:\u001b[0m\u001b[1;33m\u001b[0m\u001b[0m\n\u001b[1;32m     31\u001b[0m         \u001b[1;32mif\u001b[0m \u001b[1;33m(\u001b[0m\u001b[0mdataArr\u001b[0m\u001b[1;33m[\u001b[0m\u001b[0mmovieID\u001b[0m\u001b[1;33m]\u001b[0m\u001b[1;33m[\u001b[0m\u001b[0muserID\u001b[0m\u001b[1;33m]\u001b[0m \u001b[1;33m!=\u001b[0m \u001b[1;36m0\u001b[0m\u001b[1;33m)\u001b[0m\u001b[1;33m:\u001b[0m\u001b[1;33m\u001b[0m\u001b[0m\n\u001b[0;32m---> 32\u001b[0;31m             \u001b[0msimList\u001b[0m\u001b[1;33m,\u001b[0m \u001b[0msimListSort\u001b[0m \u001b[1;33m=\u001b[0m \u001b[0mknn2\u001b[0m\u001b[1;33m(\u001b[0m\u001b[0muserID\u001b[0m\u001b[1;33m,\u001b[0m \u001b[0mmovieID\u001b[0m\u001b[1;33m,\u001b[0m \u001b[0mKT\u001b[0m\u001b[1;33m,\u001b[0m \u001b[0mdataArr\u001b[0m\u001b[1;33m,\u001b[0m \u001b[0mtrainArr\u001b[0m\u001b[1;33m)\u001b[0m\u001b[1;33m\u001b[0m\u001b[0m\n\u001b[0m\u001b[1;32m     33\u001b[0m             \u001b[1;32mfor\u001b[0m \u001b[0mKT\u001b[0m \u001b[1;32min\u001b[0m \u001b[0mrange\u001b[0m\u001b[1;33m(\u001b[0m\u001b[1;36m1\u001b[0m\u001b[1;33m,\u001b[0m \u001b[1;36m11\u001b[0m\u001b[1;33m)\u001b[0m\u001b[1;33m:\u001b[0m\u001b[1;33m\u001b[0m\u001b[0m\n\u001b[1;32m     34\u001b[0m                 \u001b[0mtop\u001b[0m \u001b[1;33m=\u001b[0m \u001b[1;36m0\u001b[0m\u001b[1;33m\u001b[0m\u001b[0m\n",
      "\u001b[0;32m<ipython-input-127-8e7b2feaef31>\u001b[0m in \u001b[0;36mknn2\u001b[0;34m(user, movie, K, grid, grid2)\u001b[0m\n\u001b[1;32m     15\u001b[0m     \u001b[0msimList\u001b[0m \u001b[1;33m=\u001b[0m \u001b[1;33m[\u001b[0m\u001b[1;36m0\u001b[0m\u001b[1;33m]\u001b[0m \u001b[1;33m*\u001b[0m \u001b[0mlen\u001b[0m\u001b[1;33m(\u001b[0m\u001b[0mgrid\u001b[0m\u001b[1;33m)\u001b[0m\u001b[1;33m\u001b[0m\u001b[0m\n\u001b[1;32m     16\u001b[0m     \u001b[1;32mfor\u001b[0m \u001b[0mind\u001b[0m \u001b[1;32min\u001b[0m \u001b[0mrange\u001b[0m\u001b[1;33m(\u001b[0m\u001b[0mlen\u001b[0m\u001b[1;33m(\u001b[0m\u001b[0muserMovies\u001b[0m\u001b[1;33m)\u001b[0m\u001b[1;33m)\u001b[0m\u001b[1;33m:\u001b[0m\u001b[1;33m\u001b[0m\u001b[0m\n\u001b[0;32m---> 17\u001b[0;31m         \u001b[0msimList\u001b[0m\u001b[1;33m[\u001b[0m\u001b[0muserMovies\u001b[0m\u001b[1;33m[\u001b[0m\u001b[0mind\u001b[0m\u001b[1;33m]\u001b[0m\u001b[1;33m]\u001b[0m \u001b[1;33m=\u001b[0m \u001b[0mfindSimilarity\u001b[0m\u001b[1;33m(\u001b[0m\u001b[0mmovie\u001b[0m\u001b[1;33m,\u001b[0m \u001b[0muserMovies\u001b[0m\u001b[1;33m[\u001b[0m\u001b[0mind\u001b[0m\u001b[1;33m]\u001b[0m\u001b[1;33m,\u001b[0m \u001b[0mgrid2\u001b[0m\u001b[1;33m)\u001b[0m\u001b[1;33m\u001b[0m\u001b[0m\n\u001b[0m\u001b[1;32m     18\u001b[0m     \u001b[0msimListSort\u001b[0m \u001b[1;33m=\u001b[0m \u001b[0mnp\u001b[0m\u001b[1;33m.\u001b[0m\u001b[0margsort\u001b[0m\u001b[1;33m(\u001b[0m\u001b[0msimList\u001b[0m\u001b[1;33m)\u001b[0m\u001b[1;33m[\u001b[0m\u001b[1;33m:\u001b[0m\u001b[1;33m:\u001b[0m\u001b[1;33m-\u001b[0m\u001b[1;36m1\u001b[0m\u001b[1;33m]\u001b[0m\u001b[1;33m\u001b[0m\u001b[0m\n\u001b[1;32m     19\u001b[0m     \u001b[1;32mreturn\u001b[0m \u001b[0msimList\u001b[0m\u001b[1;33m,\u001b[0m \u001b[0msimListSort\u001b[0m\u001b[1;33m\u001b[0m\u001b[0m\n",
      "\u001b[0;32m<ipython-input-100-dc67a8ae3b44>\u001b[0m in \u001b[0;36mfindSimilarity\u001b[0;34m(movie1, movie2, grid)\u001b[0m\n\u001b[1;32m     14\u001b[0m     \u001b[1;32mfor\u001b[0m \u001b[0mind\u001b[0m \u001b[1;32min\u001b[0m \u001b[0mrange\u001b[0m\u001b[1;33m(\u001b[0m\u001b[0mlen\u001b[0m\u001b[1;33m(\u001b[0m\u001b[0musers\u001b[0m\u001b[1;33m)\u001b[0m\u001b[1;33m)\u001b[0m\u001b[1;33m:\u001b[0m\u001b[1;33m\u001b[0m\u001b[0m\n\u001b[1;32m     15\u001b[0m         \u001b[0muserID\u001b[0m \u001b[1;33m=\u001b[0m \u001b[0musers\u001b[0m\u001b[1;33m[\u001b[0m\u001b[0mind\u001b[0m\u001b[1;33m]\u001b[0m\u001b[1;33m\u001b[0m\u001b[0m\n\u001b[0;32m---> 16\u001b[0;31m         \u001b[0mavg\u001b[0m \u001b[1;33m=\u001b[0m \u001b[0musers_df\u001b[0m\u001b[1;33m[\u001b[0m\u001b[1;34m'Average'\u001b[0m\u001b[1;33m]\u001b[0m\u001b[1;33m[\u001b[0m\u001b[0muserID\u001b[0m \u001b[1;33m-\u001b[0m \u001b[1;36m1\u001b[0m\u001b[1;33m]\u001b[0m\u001b[1;33m\u001b[0m\u001b[0m\n\u001b[0m\u001b[1;32m     17\u001b[0m         \u001b[0mrating1\u001b[0m \u001b[1;33m=\u001b[0m \u001b[0mgrid\u001b[0m\u001b[1;33m[\u001b[0m\u001b[0mmovie1\u001b[0m\u001b[1;33m]\u001b[0m\u001b[1;33m[\u001b[0m\u001b[0muserID\u001b[0m\u001b[1;33m]\u001b[0m\u001b[1;33m\u001b[0m\u001b[0m\n\u001b[1;32m     18\u001b[0m         \u001b[0mrating2\u001b[0m \u001b[1;33m=\u001b[0m \u001b[0mgrid\u001b[0m\u001b[1;33m[\u001b[0m\u001b[0mmovie2\u001b[0m\u001b[1;33m]\u001b[0m\u001b[1;33m[\u001b[0m\u001b[0muserID\u001b[0m\u001b[1;33m]\u001b[0m\u001b[1;33m\u001b[0m\u001b[0m\n",
      "\u001b[0;32mC:\\Users\\Mobremius\\Anaconda2\\lib\\site-packages\\pandas\\core\\series.pyc\u001b[0m in \u001b[0;36m__getitem__\u001b[0;34m(self, key)\u001b[0m\n\u001b[1;32m    581\u001b[0m         \u001b[0mkey\u001b[0m \u001b[1;33m=\u001b[0m \u001b[0mcom\u001b[0m\u001b[1;33m.\u001b[0m\u001b[0m_apply_if_callable\u001b[0m\u001b[1;33m(\u001b[0m\u001b[0mkey\u001b[0m\u001b[1;33m,\u001b[0m \u001b[0mself\u001b[0m\u001b[1;33m)\u001b[0m\u001b[1;33m\u001b[0m\u001b[0m\n\u001b[1;32m    582\u001b[0m         \u001b[1;32mtry\u001b[0m\u001b[1;33m:\u001b[0m\u001b[1;33m\u001b[0m\u001b[0m\n\u001b[0;32m--> 583\u001b[0;31m             \u001b[0mresult\u001b[0m \u001b[1;33m=\u001b[0m \u001b[0mself\u001b[0m\u001b[1;33m.\u001b[0m\u001b[0mindex\u001b[0m\u001b[1;33m.\u001b[0m\u001b[0mget_value\u001b[0m\u001b[1;33m(\u001b[0m\u001b[0mself\u001b[0m\u001b[1;33m,\u001b[0m \u001b[0mkey\u001b[0m\u001b[1;33m)\u001b[0m\u001b[1;33m\u001b[0m\u001b[0m\n\u001b[0m\u001b[1;32m    584\u001b[0m \u001b[1;33m\u001b[0m\u001b[0m\n\u001b[1;32m    585\u001b[0m             \u001b[1;32mif\u001b[0m \u001b[1;32mnot\u001b[0m \u001b[0mlib\u001b[0m\u001b[1;33m.\u001b[0m\u001b[0misscalar\u001b[0m\u001b[1;33m(\u001b[0m\u001b[0mresult\u001b[0m\u001b[1;33m)\u001b[0m\u001b[1;33m:\u001b[0m\u001b[1;33m\u001b[0m\u001b[0m\n",
      "\u001b[0;32mC:\\Users\\Mobremius\\Anaconda2\\lib\\site-packages\\pandas\\indexes\\base.pyc\u001b[0m in \u001b[0;36mget_value\u001b[0;34m(self, series, key)\u001b[0m\n\u001b[1;32m   1978\u001b[0m         \u001b[1;32mtry\u001b[0m\u001b[1;33m:\u001b[0m\u001b[1;33m\u001b[0m\u001b[0m\n\u001b[1;32m   1979\u001b[0m             return self._engine.get_value(s, k,\n\u001b[0;32m-> 1980\u001b[0;31m                                           tz=getattr(series.dtype, 'tz', None))\n\u001b[0m\u001b[1;32m   1981\u001b[0m         \u001b[1;32mexcept\u001b[0m \u001b[0mKeyError\u001b[0m \u001b[1;32mas\u001b[0m \u001b[0me1\u001b[0m\u001b[1;33m:\u001b[0m\u001b[1;33m\u001b[0m\u001b[0m\n\u001b[1;32m   1982\u001b[0m             \u001b[1;32mif\u001b[0m \u001b[0mlen\u001b[0m\u001b[1;33m(\u001b[0m\u001b[0mself\u001b[0m\u001b[1;33m)\u001b[0m \u001b[1;33m>\u001b[0m \u001b[1;36m0\u001b[0m \u001b[1;32mand\u001b[0m \u001b[0mself\u001b[0m\u001b[1;33m.\u001b[0m\u001b[0minferred_type\u001b[0m \u001b[1;32min\u001b[0m \u001b[1;33m[\u001b[0m\u001b[1;34m'integer'\u001b[0m\u001b[1;33m,\u001b[0m \u001b[1;34m'boolean'\u001b[0m\u001b[1;33m]\u001b[0m\u001b[1;33m:\u001b[0m\u001b[1;33m\u001b[0m\u001b[0m\n",
      "\u001b[0;32mC:\\Users\\Mobremius\\Anaconda2\\lib\\site-packages\\pandas\\core\\series.pyc\u001b[0m in \u001b[0;36mdtype\u001b[0;34m(self)\u001b[0m\n\u001b[1;32m    314\u001b[0m     \u001b[1;32mdef\u001b[0m \u001b[0mdtype\u001b[0m\u001b[1;33m(\u001b[0m\u001b[0mself\u001b[0m\u001b[1;33m)\u001b[0m\u001b[1;33m:\u001b[0m\u001b[1;33m\u001b[0m\u001b[0m\n\u001b[1;32m    315\u001b[0m         \u001b[1;34m\"\"\" return the dtype object of the underlying data \"\"\"\u001b[0m\u001b[1;33m\u001b[0m\u001b[0m\n\u001b[0;32m--> 316\u001b[0;31m         \u001b[1;32mreturn\u001b[0m \u001b[0mself\u001b[0m\u001b[1;33m.\u001b[0m\u001b[0m_data\u001b[0m\u001b[1;33m.\u001b[0m\u001b[0mdtype\u001b[0m\u001b[1;33m\u001b[0m\u001b[0m\n\u001b[0m\u001b[1;32m    317\u001b[0m \u001b[1;33m\u001b[0m\u001b[0m\n\u001b[1;32m    318\u001b[0m     \u001b[1;33m@\u001b[0m\u001b[0mproperty\u001b[0m\u001b[1;33m\u001b[0m\u001b[0m\n",
      "\u001b[0;31mKeyboardInterrupt\u001b[0m: "
     ]
    }
   ],
   "source": [
    "def knn2(user, movie, K, grid, grid2):\n",
    "    #all movies rated by user\n",
    "    userMovies = []\n",
    "    userRatings = []\n",
    "\n",
    "\n",
    "    for ind in range(len(grid)):\n",
    "        userRatings.append(grid[ind][user])\n",
    "\n",
    "\n",
    "    for ind in range(len(userRatings)):\n",
    "        if (userRatings[ind] != 0):\n",
    "            userMovies.append(ind)\n",
    "\n",
    "    simList = [0] * len(grid) \n",
    "    for ind in range(len(userMovies)):\n",
    "        simList[userMovies[ind]] = findSimilarity(movie, userMovies[ind], grid2)\n",
    "    simListSort = np.argsort(simList)[::-1]\n",
    "    return simList, simListSort\n",
    "\n",
    "kvalues = []\n",
    "real = []\n",
    "for i in range(10):\n",
    "    kvalues.append([])\n",
    "    \n",
    "\n",
    "print len(kvalues[0][0])\n",
    "            \n",
    "func myTest():\n",
    "    myCount = 0\n",
    "    for userID in range(4028,6041):\n",
    "        for movieID in range(3953):\n",
    "            if (dataArr[movieID][userID] != 0):\n",
    "                simList, simListSort = knn2(userID, movieID, KT, dataArr, trainArr)\n",
    "                for KT in range(1, 11):\n",
    "                    top = 0\n",
    "                    bot = 0\n",
    "                    for ind in range(KT):\n",
    "                        thisSim = simList[simListSort[ind]]\n",
    "                        top += thisSim * dataArr[simListSort[ind]][user]\n",
    "                        bot += np.abs(thisSim)\n",
    "                    rating = top / bot\n",
    "                    kvalues[KT - 1][movieID][userID - 4028] = rating\n",
    "                real.append(dataArr[movieID][userID])\n",
    "\n",
    "kerror = []\n",
    "for KT in range(10):\n",
    "    kerror.append(mean_squared_error(testArr, kvalues[KT]))\n",
    "        \n",
    "print kerror   "
   ]
  },
  {
   "cell_type": "code",
   "execution_count": 182,
   "metadata": {
    "collapsed": false
   },
   "outputs": [
    {
     "name": "stdout",
     "output_type": "stream",
     "text": [
      "[3.6500927109642975, 3.7686893918315221, 4.1133990638662183, 3.8533712638576154, 4.2490404186090194, 4.3506397823665397, 4.6264330363179873, 3.7634728904849841, 2.627976666613288, 1.0, 4.0200463820473971, 3.6510623491154051, 3.9895884640426238, 4.481938147459033, 3.8771150098084721, 3.8853678480125695, 4.5081918960770198, 3.0588655566461957, 4.1573637257020604, 2.39606367967095]\n",
      "[4, 3, 5, 2, 3, 4, 3, 3, 2, 2, 4, 4, 5, 5, 4, 5, 4, 4, 3, 4]\n",
      "0.948251247831\n"
     ]
    }
   ],
   "source": [
    "import copy\n",
    "\n",
    "\n",
    "def test():\n",
    "    pred = []\n",
    "    actual = []\n",
    "    myCount = 0\n",
    "    for userID in range(4530,6041):\n",
    "        for movieID in range(3953):\n",
    "            if (dataArr[movieID][userID] != 0):\n",
    "                tempArr = copy.copy(dataArr)\n",
    "                tempArr[movieID][userID] = 0\n",
    "                myCount += 1\n",
    "                actual.append(dataArr[movieID][userID])\n",
    "                x = knn(userID, movieID, 8, tempArr, trainArr)\n",
    "                pred.append(x)\n",
    "                break\n",
    "                \n",
    "        if (myCount == 20):\n",
    "                    return pred, actual\n",
    "\n",
    "\n",
    "myPred, myActual = test()\n",
    "print myPred\n",
    "print myActual\n",
    "print mean_squared_error(myActual, myPred)\n",
    "#1, 2.3\n",
    "#2, 1.57094705748\n",
    "#3 1.27081847605\n",
    "#4 1.13136713235\n",
    "#5 0.933342566404\n",
    "#6 0.912397748029\n",
    "#7 0.928215850559\n",
    "#8 0.948251257831"
   ]
  },
  {
   "cell_type": "code",
   "execution_count": 183,
   "metadata": {
    "collapsed": false
   },
   "outputs": [
    {
     "data": {
      "text/plain": [
       "[<matplotlib.lines.Line2D at 0x1b1b8198>]"
      ]
     },
     "execution_count": 183,
     "metadata": {},
     "output_type": "execute_result"
    },
    {
     "data": {
      "image/png": "[encoded data removed]",
      "text/plain": [
       "<matplotlib.figure.Figure at 0x19d924a8>"
      ]
     },
     "metadata": {},
     "output_type": "display_data"
    }
   ],
   "source": [
    "x = range(1, 9)\n",
    "y = [2.3, 1.57094705748, 1.27081847605, 1.13136713235, 0.933342566404, 0.912397748029, 0.928215850559, 0.948251257831]\n",
    "plt.plot(x, y)"
   ]
  },
  {
   "cell_type": "code",
   "execution_count": 11,
   "metadata": {
    "collapsed": false
   },
   "outputs": [
    {
     "name": "stdout",
     "output_type": "stream",
     "text": [
      "(3953L, 6042L)\n",
      "[0, 2077, 702, 479, 171, 297, 941, 459, 69, 103, 889, 1034, 161, 100, 154, 147, 683, 835, 158, 390, 161, 1357, 379, 127, 625, 980, 101, 62, 180, 403, 74, 142, 1511, 5, 1751, 71, 928, 9, 29, 1362, 31, 243, 222, 167, 312, 544, 167, 1138, 383, 28, 1783, 1, 432, 9, 42, 46, 10, 100, 501, 9, 358, 68, 542, 112, 80, 144, 98, 5, 61, 320, 915, 97, 94, 225, 121, 13, 179, 35, 51, 115, 52, 167, 90, 34, 22, 195, 237, 77, 193, 230, 7, 1, 89, 90, 183, 639, 14, 45, 7, 51, 129, 254, 61, 34, 683, 388, 13, 257, 8, 1, 2444, 1240, 571, 54, 12, 1, 42, 80, 69, 14, 4, 38, 195, 116, 15, 319, 100, 2, 13, 14, 3, 17, 92, 2, 3, 134, 9, 14, 3, 2, 140, 683, 2, 1, 434, 363, 19, 182, 24, 48, 1251, 555, 70, 778, 168, 88, 67, 188, 260, 117, 566, 760, 491, 541, 380, 826, 62, 6, 363, 114, 322, 94, 459, 565, 82, 221, 206, 140, 20, 49, 452, 94, 50, 30, 27, 570, 212, 106, 191, 16, 101, 76, 3, 218, 214, 165, 551, 18, 606, 118, 13, 34, 31, 204, 204, 86, 83, 220, 652, 53, 42, 35, 15, 123, 29, 161, 356, 65, 196, 23, 29, 1, 330, 1413, 387, 255, 2, 130, 14, 109, 350, 661, 346, 236, 148, 927, 327, 258, 33, 169, 46, 30, 81, 11, 11, 12, 716, 477, 139, 262, 31, 19, 368, 739, 39, 67, 219, 115, 145, 103, 2991, 286, 173, 28, 6, 772, 706, 141, 55, 56, 80, 64, 384, 245, 25, 81, 229, 171, 41, 47, 213, 234, 216, 19, 1, 1, 2, 22, 701, 159, 168, 49, 734, 924, 43, 30, 2171, 29, 24, 144, 705, 44, 87, 419, 36, 128, 334, 244, 203, 49, 7, 2, 113, 55, 301, 154, 1117, 642, 2227, 274, 33, 62, 210, 1, 34, 50, 61, 359, 145, 991, 150, 22, 162, 411, 114, 42, 20, 694, 222, 674, 85, 32, 519, 43, 767, 470, 121, 47, 455, 1060, 516, 258, 120, 735, 68, 268, 2195, 1233, 142, 20, 128, 269, 240, 63, 1122, 72, 252, 1180, 803, 59, 413, 213, 429, 258, 184, 18, 351, 1651, 141, 437, 1401, 212, 273, 271, 41, 11, 31, 103, 98, 21, 60, 41, 26, 106, 19, 1, 2, 13, 2, 1, 1, 3, 2, 1, 5, 204, 9, 194, 73, 50, 464, 14, 296, 246, 91, 180, 90, 209, 30, 157, 353, 95, 58, 222, 76, 106, 270, 167, 264, 188, 25, 370, 393, 49, 687, 534, 142, 65, 153, 3, 949, 644, 641, 32, 82, 101, 254, 32, 228, 72, 229, 107, 39, 68, 825, 286, 94, 1995, 88, 144, 39, 87, 29, 48, 217, 106, 574, 55, 351, 70, 39, 600, 45, 152, 973, 313, 36, 196, 25, 134, 2673, 295, 177, 75, 30, 501, 65, 63, 40, 98, 186, 213, 336, 299, 417, 42, 38, 668, 48, 50, 839, 95, 156, 14, 179, 70, 115, 309, 561, 609, 43, 153, 180, 68, 347, 451, 249, 383, 150, 203, 375, 118, 84, 118, 477, 22, 9, 2304, 69, 721, 3, 339, 390, 204, 287, 301, 56, 208, 316, 987, 170, 1800, 207, 683, 130, 2, 351, 125, 138, 157, 179, 997, 530, 554, 27, 659, 133, 3, 136, 6, 9, 14, 478, 18, 46, 62, 14, 15, 36, 101, 24, 35, 3, 21, 176, 108, 2, 56, 3, 2, 63, 142, 3, 29, 2, 419, 676, 1125, 1352, 2649, 1452, 3, 1431, 2578, 764, 1061, 499, 1047, 9, 265, 31, 2, 42, 59, 1, 227, 94, 3, 2513, 68, 619, 217, 80, 83, 10, 68, 279, 18, 10, 33, 1, 43, 1, 4, 2, 1, 20, 122, 486, 1, 8, 76, 14, 21, 4, 78, 1, 141, 20, 79, 72, 2, 2, 4, 2, 21, 1, 442, 1528, 16, 90, 2, 10, 613, 1, 2, 40, 3, 2, 26, 3, 526, 129, 265, 9, 36, 4, 48, 48, 24, 57, 457, 3, 564, 387, 1, 1, 1, 307, 3, 65, 16, 5, 1, 2, 31, 1, 4, 214, 1, 3, 122, 107, 1, 142, 136, 5, 86, 6, 1, 146, 2, 28, 11, 43, 37, 3, 276, 680, 145, 52, 63, 3, 1, 154, 53, 29, 2, 34, 240, 438, 1, 27, 1, 417, 92, 10, 1, 218, 4, 2, 48, 7, 1341, 4, 102, 1111, 301, 1, 1, 1, 315, 175, 108, 4, 658, 32, 56, 418, 5, 1367, 16, 1, 33, 14, 10, 5, 5, 2, 59, 34, 124, 299, 2, 75, 172, 101, 25, 1, 13, 1, 19, 1, 1, 2, 10, 5, 1, 751, 53, 1731, 104, 146, 391, 386, 766, 461, 4, 949, 3, 2, 3, 2, 11, 1, 1, 4, 1, 205, 339, 630, 122, 428, 58, 234, 345, 61, 15, 44, 106, 121, 10, 1, 48, 2, 7, 1, 1, 190, 1, 5, 3, 1, 5, 29, 1, 2, 3, 55, 132, 296, 21, 565, 79, 5, 104, 238, 219, 502, 136, 51, 26, 152, 2, 8, 1, 39, 8, 157, 512, 31, 128, 616, 4, 9, 1, 1, 1, 2223, 2, 11, 274, 32, 11, 13, 2, 572, 25, 2, 43, 50, 1, 2, 1, 9, 45, 22, 25, 2, 238, 325, 78, 60, 1, 3, 44, 105, 3, 49, 3, 1, 184, 153, 70, 1, 3, 52, 99, 583, 751, 344, 175, 677, 905, 1050, 375, 188, 106, 1315, 418, 832, 307, 1669, 1043, 637, 366, 425, 78, 190, 1718, 1156, 303, 471, 1116, 1716, 13, 404, 85, 387, 94, 445, 207, 190, 444, 305, 72, 133, 45, 188, 12, 379, 106, 293, 172, 98, 252, 162, 189, 131, 216, 293, 398, 270, 729, 384, 414, 41, 38, 14, 59, 21, 24, 12, 55, 52, 254, 7, 24, 716, 1058, 38, 272, 7, 83, 17, 3, 57, 3, 100, 1, 6, 5, 82, 1, 34, 5, 233, 41, 70, 2, 55, 171, 21, 10, 450, 1, 257, 29, 94, 287, 21, 1, 9, 122, 102, 143, 79, 233, 98, 292, 243, 136, 302, 259, 137, 235, 157, 277, 124, 576, 393, 248, 578, 222, 127, 294, 9, 345, 1012, 569, 324, 320, 526, 288, 170, 883, 1666, 616, 12, 4, 6, 474, 529, 109, 36, 1, 91, 435, 1, 452, 147, 99, 1, 36, 82, 20, 51, 275, 12, 480, 787, 375, 3, 27, 210, 1, 176, 24, 36, 111, 3, 6, 1, 1314, 1, 1, 24, 744, 373, 1326, 926, 435, 155, 165, 687, 132, 380, 19, 688, 1259, 1143, 373, 752, 681, 1229, 572, 344, 2269, 6, 195, 421, 1011, 5, 402, 483, 43, 1, 4, 1, 1, 1, 94, 36, 51, 32, 2, 18, 13, 2, 35, 457, 14, 1, 34, 405, 386, 318, 1715, 171, 885, 232, 217, 221, 3, 3, 408, 1599, 1, 8, 3, 1, 1, 3, 1, 17, 3, 1, 278, 883, 5, 158, 32, 30, 15, 16, 1, 1, 1, 1, 1, 7, 95, 97, 20, 6, 2, 1, 95, 19, 37, 18, 416, 615, 198, 6, 369, 130, 148, 231, 885, 51, 11, 1, 990, 92, 453, 563, 148, 676, 269, 133, 210, 106, 1725, 213, 1, 2990, 2319, 2514, 913, 1820, 823, 73, 616, 832, 232, 1229, 929, 1176, 174, 2883, 242, 480, 1657, 2024, 946, 88, 357, 245, 1263, 1341, 1692, 1254, 474, 427, 1382, 227, 242, 677, 1, 1334, 750, 53, 1002, 1050, 697, 91, 299, 352, 1, 2098, 71, 1112, 326, 718, 359, 855, 1261, 514, 733, 938, 228, 1185, 559, 453, 55, 595, 473, 1087, 1785, 309, 549, 697, 700, 257, 2278, 998, 766, 318, 673, 2583, 594, 646, 146, 453, 742, 930, 364, 1193, 195, 277, 217, 944, 403, 542, 803, 286, 705, 1118, 183, 231, 1628, 592, 671, 1099, 266, 560, 443, 388, 732, 330, 374, 769, 311, 1420, 121, 137, 1568, 1, 1, 44, 8, 30, 14, 1, 4, 2, 41, 1, 1, 926, 549, 33, 44, 23, 24, 57, 356, 26, 37, 117, 51, 103, 733, 339, 22, 56, 65, 1, 673, 217, 54, 263, 688, 362, 568, 175, 452, 239, 15, 410, 36, 95, 189, 267, 78, 1311, 549, 1177, 223, 3, 160, 101, 113, 3, 59, 109, 365, 1, 6, 1136, 793, 1002, 613, 1448, 928, 1126, 1032, 563, 370, 818, 304, 128, 12, 7, 462, 2, 1698, 371, 211, 122, 1075, 219, 1354, 1434, 296, 1092, 64, 64, 105, 1, 163, 1, 1, 77, 476, 25, 887, 976, 393, 91, 383, 21, 51, 169, 37, 283, 44, 1, 136, 8, 23, 282, 15, 1, 169, 24, 52, 53, 298, 2, 233, 101, 6, 3, 1, 10, 22, 322, 47, 82, 482, 72, 1, 9, 157, 190, 50, 1, 462, 15, 1, 1, 149, 83, 23, 65, 267, 25, 381, 95, 217, 1, 35, 146, 127, 720, 1, 145, 1, 2, 6, 49, 41, 147, 82, 500, 28, 1, 564, 266, 1, 64, 142, 125, 667, 8, 163, 289, 38, 27, 1, 1, 18, 20, 45, 26, 49, 132, 400, 1137, 19, 14, 146, 17, 1, 1, 43, 37, 22, 3, 25, 1, 756, 8, 182, 53, 1206, 355, 7, 16, 1, 8, 58, 1, 45, 89, 1378, 3, 32, 1, 12, 7, 25, 7, 104, 1, 350, 7, 12, 1, 241, 239, 8, 1256, 74, 50, 38, 3, 20, 72, 37, 955, 5, 138, 3, 368, 1, 3, 1, 1, 5, 607, 41, 37, 18, 470, 10, 1, 821, 24, 46, 27, 1422, 16, 15, 1, 1, 1, 2, 2539, 60, 61, 28, 1383, 29, 558, 572, 290, 493, 499, 476, 113, 163, 307, 66, 33, 812, 112, 68, 85, 76, 44, 349, 66, 89, 110, 1, 1077, 56, 1653, 237, 56, 31, 429, 228, 396, 2288, 1, 363, 396, 86, 6, 129, 51, 883, 82, 251, 1, 110, 2, 50, 21, 266, 1, 507, 6, 1, 1, 967, 85, 1199, 75, 266, 476, 827, 89, 91, 195, 189, 51, 18, 5, 1078, 88, 78, 15, 21, 117, 8, 180, 89, 21, 740, 6, 201, 21, 114, 40, 38, 83, 23, 322, 1128, 1046, 12, 1164, 38, 475, 25, 465, 135, 1006, 219, 59, 7, 110, 338, 305, 253, 780, 1, 21, 352, 471, 33, 29, 1, 1, 155, 1, 285, 303, 63, 1548, 1, 1, 155, 1, 2, 1, 629, 1, 232, 2, 14, 1, 456, 8, 381, 8, 1547, 863, 1, 2, 24, 138, 211, 23, 725, 177, 65, 1098, 83, 201, 264, 1, 1, 1, 48, 1, 6, 1, 12, 78, 1, 56, 908, 875, 11, 64, 1, 207, 199, 389, 31, 52, 1, 101, 52, 191, 1, 228, 1, 2, 1, 1, 27, 1, 320, 20, 48, 231, 3, 1, 1, 1, 910, 1, 542, 9, 1, 9, 221, 1424, 181, 1, 3, 92, 1, 1, 54, 449, 14, 152, 3, 6, 168, 43, 214, 1, 392, 1, 1, 120, 627, 169, 18, 1, 37, 354, 14, 45, 1, 26, 2, 102, 13, 1, 1, 2, 212, 22, 1, 105, 34, 41, 103, 1, 38, 2, 668, 2, 265, 493, 367, 136, 65, 1, 70, 161, 96, 3, 2, 30, 302, 21, 1, 178, 8, 14, 3, 2, 18, 49, 109, 73, 25, 173, 33, 45, 4, 199, 143, 12, 55, 190, 39, 3, 52, 73, 5, 11, 260, 28, 165, 896, 5, 12, 23, 27, 69, 500, 665, 299, 609, 5, 61, 388, 50, 8, 10, 402, 22, 472, 307, 48, 134, 15, 11, 61, 6, 31, 7, 114, 3, 33, 491, 2, 997, 42, 528, 908, 168, 373, 2, 355, 1111, 670, 117, 365, 613, 53, 1372, 250, 46, 33, 269, 30, 84, 6, 226, 37, 22, 78, 108, 83, 64, 123, 237, 92, 114, 120, 62, 365, 519, 206, 761, 199, 220, 349, 214, 663, 862, 1129, 453, 508, 635, 531, 627, 636, 1330, 652, 252, 303, 751, 198, 555, 1540, 275, 269, 243, 201, 216, 317, 171, 200, 170, 115, 113, 92, 100, 507, 196, 106, 130, 128, 92, 52, 16, 17, 239, 134, 98, 796, 183, 113, 886, 114, 128, 1628, 1012, 803, 776, 373, 717, 984, 66, 16, 423, 388, 1158, 1149, 623, 181, 381, 110, 163, 590, 628, 773, 789, 254, 775, 149, 222, 162, 130, 2653, 77, 1, 38, 41, 201, 296, 58, 97, 55, 199, 2, 129, 146, 194, 159, 53, 56, 537, 23, 132, 38, 105, 102, 184, 382, 1046, 43, 19, 92, 800, 269, 184, 8, 71, 9, 799, 480, 107, 565, 128, 141, 264, 172, 304, 67, 22, 82, 654, 155, 665, 15, 865, 1036, 362, 263, 94, 566, 30, 595, 472, 240, 250, 187, 164, 277, 737, 114, 512, 214, 77, 222, 1163, 16, 198, 38, 54, 971, 186, 200, 826, 574, 368, 312, 347, 80, 257, 1128, 439, 279, 364, 148, 243, 246, 234, 216, 715, 417, 496, 5, 26, 9, 305, 31, 298, 542, 510, 239, 223, 498, 306, 370, 711, 405, 202, 356, 720, 694, 352, 231, 167, 104, 695, 129, 70, 289, 141, 268, 10, 21, 21, 220, 713, 700, 178, 207, 21, 110, 145, 810, 80, 131, 124, 197, 5, 111, 1496, 19, 192, 84, 96, 40, 59, 119, 99, 180, 148, 18, 483, 27, 260, 22, 53, 11, 8, 803, 1128, 136, 28, 12, 3, 1, 9, 21, 214, 234, 90, 34, 168, 9, 200, 11, 55, 20, 129, 2, 2, 13, 1, 2, 2, 11, 1, 12, 1, 4, 1, 1, 2, 22, 1, 1, 1, 346, 234, 6, 9, 2, 203, 45, 78, 98, 239, 129, 7, 790, 8, 515, 15, 366, 914, 240, 63, 3, 187, 441, 2, 80, 25, 18, 3, 202, 50, 162, 327, 176, 84, 84, 196, 75, 1062, 218, 1, 77, 113, 628, 1, 72, 71, 2, 807, 227, 126, 12, 317, 62, 44, 55, 43, 281, 742, 978, 122, 1474, 21, 26, 646, 75, 145, 356, 16, 5, 658, 371, 1087, 325, 8, 26, 91, 39, 2, 3, 135, 471, 331, 458, 105, 148, 237, 9, 321, 1, 188, 1159, 291, 36, 1152, 120, 13, 101, 174, 641, 93, 180, 9, 579, 387, 421, 939, 127, 296, 28, 345, 45, 12, 3, 202, 44, 301, 96, 304, 167, 20, 112, 839, 989, 142, 1704, 97, 215, 5, 704, 118, 159, 54, 302, 122, 137, 756, 310, 59, 840, 143, 600, 239, 190, 245, 419, 325, 184, 413, 226, 197, 175, 151, 150, 523, 147, 60, 218, 16, 265, 331, 745, 206, 808, 580, 1220, 2369, 24, 381, 224, 44, 313, 401, 398, 302, 674, 1346, 1006, 259, 446, 401, 375, 275, 444, 380, 16, 355, 75, 111, 70, 494, 477, 287, 516, 839, 59, 28, 804, 514, 181, 145, 475, 147, 613, 61, 100, 123, 86, 2, 198, 48, 27, 161, 127, 6, 75, 64, 267, 190, 33, 435, 114, 20, 177, 481, 1071, 284, 260, 131, 248, 117, 63, 55, 475, 9, 43, 14, 325, 375, 507, 913, 414, 94, 194, 344, 141, 301, 43, 570, 45, 3, 36, 31, 26, 2, 411, 10, 8, 86, 1, 774, 116, 140, 29, 28, 99, 361, 171, 124, 53, 120, 589, 873, 9, 182, 273, 164, 55, 1, 19, 4, 83, 19, 305, 117, 53, 46, 274, 295, 97, 180, 85, 80, 43, 267, 154, 132, 637, 627, 1163, 366, 313, 359, 464, 18, 120, 38, 35, 6, 617, 157, 560, 626, 3, 19, 13, 170, 1, 106, 176, 184, 190, 38, 220, 137, 165, 2, 6, 236, 28, 172, 132, 10, 2, 1, 373, 41, 303, 215, 10, 103, 2590, 701, 49, 200, 141, 4, 29, 5, 30, 723, 625, 67, 236, 2, 49, 26, 103, 1, 65, 49, 3, 2, 36, 63, 1, 140, 65, 534, 1522, 411, 1, 7, 1, 1, 778, 208, 69, 6, 68, 42, 147, 136, 282, 45, 190, 625, 1008, 47, 2, 37, 70, 416, 5, 102, 67, 36, 15, 2251, 145, 42, 6, 12, 163, 94, 32, 14, 34, 37, 164, 1223, 846, 512, 333, 239, 102, 40, 53, 406, 66, 34, 83, 52, 43, 135, 48, 63, 1234, 12, 47, 136, 95, 566, 54, 628, 72, 29, 59, 274, 108, 221, 781, 392, 8, 27, 11, 267, 231, 26, 6, 1, 44, 89, 1435, 1, 5, 584, 443, 692, 42, 391, 21, 1072, 225, 792, 12, 82, 49, 1, 1368, 1270, 903, 396, 2, 42, 8, 1390, 635, 48, 233, 1238, 33, 946, 422, 88, 23, 2181, 565, 384, 477, 374, 86, 599, 854, 651, 95, 131, 33, 426, 202, 170, 188, 149, 51, 467, 460, 226, 24, 80, 450, 18, 62, 2, 25, 39, 229, 936, 357, 138, 88, 285, 54, 186, 58, 13, 32, 33, 136, 32, 431, 8, 675, 2459, 1090, 281, 8, 34, 26, 14, 78, 936, 172, 247, 15, 69, 15, 14, 6, 30, 346, 83, 64, 108, 11, 64, 26, 73, 163, 452, 166, 62, 1731, 559, 266, 385, 550, 241, 1492, 161, 100, 23, 92, 306, 347, 1353, 449, 200, 92, 376, 21, 42, 3, 47, 30, 9, 272, 149, 126, 59, 320, 54, 4, 264, 5, 15, 5, 751, 329, 122, 158, 12, 9, 1, 7, 19, 57, 164, 22, 1, 11, 420, 488, 43, 24, 84, 2, 167, 34, 42, 31, 8, 134, 164, 29, 12, 11, 91, 400, 3428, 239, 129, 355, 90, 518, 29, 21, 200, 307, 64, 4, 194, 730, 742, 23, 68, 292, 44, 212, 35, 165, 73, 787, 119, 278, 43, 62, 34, 5, 120, 288, 1022, 186, 13, 43, 33, 3, 29, 21, 103, 118, 162, 331, 165, 99, 18, 70, 251, 214, 851, 2, 1, 8, 475, 18, 12, 852, 1997, 504, 1474, 391, 101, 318, 242, 18, 134, 58, 446, 100, 78, 216, 6, 11, 119, 10, 6, 146, 162, 105, 31, 53, 108, 281, 363, 161, 708, 29, 292, 898, 772, 647, 347, 523, 187, 342, 1, 5, 142, 1, 1, 1452, 5, 281, 11, 18, 13, 73, 430, 128, 1011, 92, 99, 318, 66, 460, 68, 112, 558, 46, 104, 38, 1, 16, 39, 82, 10, 1229, 494, 1799, 109, 425, 386, 423, 32, 405, 11, 342, 134, 2241, 14, 5, 346, 7, 36, 9, 253, 641, 885, 296, 52, 1, 36, 150, 11, 66, 50, 145, 447, 104, 249, 417, 525, 37, 207, 1, 162, 15, 9, 8, 140, 191, 216, 54, 225, 900, 344, 422, 175, 592, 75, 839, 316, 74, 66, 41, 584, 119, 86, 19, 72, 38, 17, 162, 990, 342, 137, 83, 7, 3, 13, 1, 559, 276, 353, 140, 61, 2, 195, 353, 379, 56, 611, 328, 982, 34, 223, 70, 94, 89, 156, 146, 1, 1067, 863, 394, 3, 3, 82, 517, 357, 252, 178, 142, 21, 209, 101, 521, 94, 206, 549, 274, 624, 802, 245, 69, 766, 681, 26, 870, 945, 65, 34, 213, 71, 565, 1586, 111, 12, 74, 67, 4, 131, 19, 30, 4, 35, 201, 4, 57, 52, 289, 119, 3, 39, 43, 165, 196, 4, 17, 67, 18, 10, 63, 131, 34, 50, 260, 309, 1223, 712, 10, 61, 2, 355, 259, 9, 334, 384, 521, 45, 454, 1114, 20, 22, 305, 2, 62, 7, 167, 485, 254, 1, 26, 2, 484, 875, 1729, 1332, 169, 510, 226, 71, 164, 124, 46, 6, 399, 432, 4, 55, 301, 162, 1, 25, 1, 221, 1, 395, 252, 326, 73, 173, 359, 2, 498, 205, 5, 134, 6, 265, 2, 887, 67, 3, 233, 98, 12, 4, 92, 33, 448, 2, 30, 31, 30, 77, 123, 1, 1, 3, 2, 79, 1, 6, 3, 1, 72, 3, 2, 268, 38, 34, 58, 4, 294, 323, 6, 476, 667, 203, 341, 367, 277, 556, 1121, 434, 1100, 1053, 627, 340, 404, 481, 430, 163, 668, 513, 328, 155, 484, 180, 478, 201, 329, 172, 578, 439, 93, 47, 2, 1, 1, 2, 50, 11, 16, 46, 424, 123, 130, 5, 52, 2, 2, 7, 6, 3, 3, 204, 2, 591, 177, 543, 603, 54, 7, 57, 3, 25, 272, 295, 25, 63, 34, 2, 21, 5, 2, 290, 497, 49, 29, 46, 2, 5, 2, 191, 161, 181, 135, 315, 28, 109, 36, 1, 17, 461, 13, 3, 3, 28, 44, 72, 178, 223, 41, 21, 24, 6, 213, 1, 26, 144, 16, 4, 3, 794, 299, 1, 104, 447, 520, 591, 1095, 765, 991, 152, 246, 266, 44, 64, 1, 87, 49, 57, 4, 16, 66, 2, 3, 5, 96, 4, 3, 2, 1, 277, 142, 757, 174, 298, 39, 34, 97, 158, 52, 211, 56, 745, 359, 342, 88, 30, 114, 24, 33, 220, 145, 106, 4, 1316, 460, 10, 1, 176, 3, 51, 24, 52, 74, 1417, 14, 200, 1207, 210, 75, 781, 80, 216, 75, 60, 275, 221, 86, 73, 49, 39, 552, 129, 13, 535, 252, 189, 476, 40, 6, 223, 140, 40, 73, 1083, 34, 810, 351, 332, 90, 44, 1, 66, 142, 2, 63, 2, 354, 306, 11, 21, 19, 220, 280, 451, 269, 93, 1451, 5, 25, 17, 135, 668, 272, 267, 543, 156, 1374, 4, 169, 303, 3, 11, 69, 23, 723, 18, 67, 15, 3, 321, 13, 60, 97, 296, 885, 178, 270, 89, 144, 688, 355, 168, 390, 366, 93, 822, 67, 455, 421, 63, 193, 228, 3, 55, 200, 33, 188, 4, 9, 534, 361, 812, 1298, 322, 156, 2, 28, 22, 8, 506, 631, 490, 35, 177, 40, 29, 1, 3, 839, 98, 444, 224, 77, 275, 261, 161, 401, 967, 83, 120, 909, 329, 117, 1, 31, 1, 1, 27, 14, 129, 278, 305, 36, 27, 38, 11, 128, 78, 27, 18, 4, 285, 61, 1925, 69, 30, 15, 1, 1, 130, 20, 29, 31, 49, 1, 86, 629, 9, 343, 183, 5, 61, 38, 180, 104, 122, 3, 50, 4, 123, 52, 170, 2, 862, 5, 35, 16, 31, 95, 543, 346, 139, 420, 370, 93, 51, 4, 85, 1314, 792, 17, 50, 108, 102, 276, 1, 4, 41, 354, 166, 488, 10, 21, 653, 462, 13, 9, 14, 102, 18, 19, 181, 2, 10, 296, 1, 3, 6, 150, 503, 51, 2, 7, 70, 39, 158, 83, 93, 59, 55, 27, 7, 36, 357, 72, 22, 1119, 157, 32, 48, 272, 200, 46, 91, 63, 48, 326, 211, 628, 359, 546, 414, 3, 340, 142, 123, 43, 59, 183, 63, 54, 66, 644, 731, 866, 247, 505, 1067, 1034, 723, 381, 449, 238, 268, 114, 186, 34, 366, 86, 67, 89, 68, 585, 62, 46, 88, 25, 2, 270, 196, 113, 99, 149, 149, 223, 454, 44, 72, 290, 58, 495, 40, 51, 78, 41, 585, 242, 235, 78, 422, 536, 70, 149, 3, 23, 1, 1329, 561, 1241, 207, 1014, 25, 18, 121, 36, 306, 29, 4, 702, 246, 47, 192, 105, 82, 191, 339, 152, 4, 172, 65, 21, 25, 12, 7, 2, 42, 30, 45, 236, 166, 614, 185, 64, 247, 157, 52, 436, 73, 1512, 122, 67, 14, 30, 464, 101, 4, 200, 305, 10, 44, 35, 59, 107, 45, 818, 84, 361, 286, 84, 220, 1, 39, 17, 8, 245, 38, 249, 71, 67, 118, 202, 406, 479, 3, 1, 26, 187, 22, 57, 177, 179, 376, 90, 43, 48, 113, 307, 2, 31, 409, 29, 139, 26, 21, 44, 14, 41, 209, 14, 21, 40, 1, 61, 70, 83, 17, 242, 21, 659, 144, 148, 7, 13, 693, 432, 50, 306, 103, 281, 25, 6, 5, 183, 13, 145, 19, 2, 235, 16, 41, 27, 41, 5, 3, 136, 2, 8, 11, 560, 22, 95, 180, 995, 46, 4, 34, 107, 25, 53, 2, 9, 33, 1, 93, 70, 201, 658, 41, 33, 71, 128, 438, 280, 168, 88, 67, 48, 40, 105, 27, 125, 181, 349, 207, 148, 224, 28, 233, 17, 29, 24, 113, 136, 28, 27, 16, 23, 29, 97, 10, 44, 101, 56, 863, 305, 55, 41, 389, 0]\n"
     ]
    }
   ],
   "source": [
    "dataArr = data.as_matrix()\n",
    "#3953, 6042\n",
    "print dataArr.shape\n",
    "\n",
    "movieHist = [0] * 3954\n",
    "\n",
    "for i in range(3953):\n",
    "    for j in range(6041):\n",
    "        if (dataArr[i][j] != 0):\n",
    "            movieHist[i] += 1\n",
    "            \n",
    "print movieHist\n"
   ]
  },
  {
   "cell_type": "code",
   "execution_count": 12,
   "metadata": {
    "collapsed": false
   },
   "outputs": [
    {
     "data": {
      "text/plain": [
       "[<matplotlib.lines.Line2D at 0x17e952b0>]"
      ]
     },
     "execution_count": 12,
     "metadata": {},
     "output_type": "execute_result"
    },
    {
     "data": {
      "image/png": "[encoded data removed]",
      "text/plain": [
       "<matplotlib.figure.Figure at 0x9c55080>"
      ]
     },
     "metadata": {},
     "output_type": "display_data"
    }
   ],
   "source": [
    "xMovieHist = range(0, len(movieHist))\n",
    "plt.plot(xMovieHist, movieHist)"
   ]
  },
  {
   "cell_type": "code",
   "execution_count": 13,
   "metadata": {
    "collapsed": false
   },
   "outputs": [
    {
     "data": {
      "text/plain": [
       "[<matplotlib.lines.Line2D at 0x14814710>]"
      ]
     },
     "execution_count": 13,
     "metadata": {},
     "output_type": "execute_result"
    },
    {
     "data": {
      "image/png": "[encoded data removed]",
      "text/plain": [
       "<matplotlib.figure.Figure at 0x1a676e80>"
      ]
     },
     "metadata": {},
     "output_type": "display_data"
    }
   ],
   "source": [
    "movieHistSorted = sorted(movieHist)\n",
    "plt.plot(xMovieHist, movieHistSorted)"
   ]
  },
  {
   "cell_type": "code",
   "execution_count": null,
   "metadata": {
    "collapsed": true
   },
   "outputs": [],
   "source": []
  }
 ],
 "metadata": {
  "anaconda-cloud": {},
  "kernelspec": {
   "display_name": "Python [conda root]",
   "language": "python",
   "name": "conda-root-py"
  },
  "language_info": {
   "codemirror_mode": {
    "name": "ipython",
    "version": 2
   },
   "file_extension": ".py",
   "mimetype": "text/x-python",
   "name": "python",
   "nbconvert_exporter": "python",
   "pygments_lexer": "ipython2",
   "version": "2.7.12"
  }
 },
 "nbformat": 4,
 "nbformat_minor": 0
}
